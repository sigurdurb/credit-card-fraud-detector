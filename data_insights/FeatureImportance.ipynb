{
  "nbformat": 4,
  "nbformat_minor": 0,
  "metadata": {
    "colab": {
      "provenance": []
    },
    "kernelspec": {
      "name": "python3",
      "display_name": "Python 3"
    },
    "language_info": {
      "name": "python"
    }
  },
  "cells": [
    {
      "cell_type": "markdown",
      "source": [
        "# Get Data"
      ],
      "metadata": {
        "id": "4JvJmyORAqvj"
      }
    },
    {
      "cell_type": "code",
      "execution_count": 2,
      "metadata": {
        "colab": {
          "base_uri": "https://localhost:8080/"
        },
        "id": "nxAMw1zC_vIm",
        "outputId": "e735ced2-2e47-4379-ff98-9a1e2247c2e6"
      },
      "outputs": [
        {
          "output_type": "stream",
          "name": "stdout",
          "text": [
            "mkdir: cannot create directory ‘/root/.kaggle’: File exists\n",
            "Downloading creditcardfraud.zip to /content\n",
            " 86% 57.0M/66.0M [00:00<00:00, 126MB/s]\n",
            "100% 66.0M/66.0M [00:00<00:00, 125MB/s]\n"
          ]
        }
      ],
      "source": [
        "! pip install -q kaggle\n",
        "! mkdir ~/.kaggle\n",
        "! cp kaggle.json ~/.kaggle/\n",
        "! chmod 600 ~/.kaggle/kaggle.json\n",
        "! kaggle datasets download -d mlg-ulb/creditcardfraud\n"
      ]
    },
    {
      "cell_type": "code",
      "source": [
        "! unzip creditcardfraud.zip"
      ],
      "metadata": {
        "colab": {
          "base_uri": "https://localhost:8080/"
        },
        "id": "eTRk55vi_5pN",
        "outputId": "e97096cc-de9f-4f4f-8a90-3a5f3908cf7f"
      },
      "execution_count": 3,
      "outputs": [
        {
          "output_type": "stream",
          "name": "stdout",
          "text": [
            "Archive:  creditcardfraud.zip\n",
            "  inflating: creditcard.csv          \n"
          ]
        }
      ]
    },
    {
      "cell_type": "markdown",
      "source": [
        "# Import Stuff"
      ],
      "metadata": {
        "id": "g1E0cGL0AvUF"
      }
    },
    {
      "cell_type": "code",
      "source": [
        "import pandas as pd\n",
        "import numpy as np\n",
        "\n",
        "\n",
        "from scipy.stats import reciprocal\n",
        "from sklearn.model_selection import train_test_split\n",
        "from imblearn.under_sampling import RandomUnderSampler\n",
        "from sklearn.ensemble import RandomForestClassifier"
      ],
      "metadata": {
        "id": "PiIYYfEx_9Gl"
      },
      "execution_count": 4,
      "outputs": []
    },
    {
      "cell_type": "markdown",
      "source": [
        "# Read data"
      ],
      "metadata": {
        "id": "QX4Oqhc7A7kS"
      }
    },
    {
      "cell_type": "code",
      "source": [
        "def load_data() -> tuple[pd.DataFrame, pd.DataFrame, pd.Series, pd.Series]:\n",
        "    credidcard_fraud_df = pd.read_csv('creditcard.csv')\n",
        "\n",
        "    y = credidcard_fraud_df['Class']\n",
        "    X = credidcard_fraud_df\n",
        "    X.pop('Class')\n",
        "\n",
        "    X_train, X_validate, y_train, y_validate = train_test_split(X, y, train_size=0.8, test_size=0.2, shuffle=True,\n",
        "                                                                random_state=37, stratify=y)\n",
        "    return X_train, X_validate, y_train, y_validate"
      ],
      "metadata": {
        "id": "aKo714wEAJg2"
      },
      "execution_count": 5,
      "outputs": []
    },
    {
      "cell_type": "code",
      "source": [
        "X_train, _, y_train, _ = load_data()"
      ],
      "metadata": {
        "id": "0OWQg3AwAShy"
      },
      "execution_count": 6,
      "outputs": []
    },
    {
      "cell_type": "markdown",
      "source": [
        "# Feature engeneer"
      ],
      "metadata": {
        "id": "2gWWvJL4BAxe"
      }
    },
    {
      "cell_type": "code",
      "source": [
        "X_train[\"Time-Mod\"]=(X_train[\"Time\"]%(60*60*24))/(60*60*24)\n",
        "X_train.pop('Time')"
      ],
      "metadata": {
        "colab": {
          "base_uri": "https://localhost:8080/"
        },
        "id": "_fAZSCG1AYJ7",
        "outputId": "da3935f4-01e3-49b4-e430-34764b83882b"
      },
      "execution_count": 7,
      "outputs": [
        {
          "output_type": "execute_result",
          "data": {
            "text/plain": [
              "162819    115394.0\n",
              "188181    127855.0\n",
              "99950      67355.0\n",
              "91455      63477.0\n",
              "251457    155352.0\n",
              "            ...   \n",
              "130621     79394.0\n",
              "117705     74776.0\n",
              "219600    141796.0\n",
              "171702    120775.0\n",
              "68919      53190.0\n",
              "Name: Time, Length: 227845, dtype: float64"
            ]
          },
          "metadata": {},
          "execution_count": 7
        }
      ]
    },
    {
      "cell_type": "markdown",
      "source": [
        "# Create Random Forest classifyer"
      ],
      "metadata": {
        "id": "xUQwbWbaBEfV"
      }
    },
    {
      "cell_type": "code",
      "source": [
        "rfc = RandomForestClassifier(class_weight= \"balanced_subsample\")\n",
        "rfc.fit(X_train,y_train)"
      ],
      "metadata": {
        "colab": {
          "base_uri": "https://localhost:8080/",
          "height": 75
        },
        "id": "Byw-I4mkAgg5",
        "outputId": "aa525b7a-7dac-4076-ab58-2805b5be8416"
      },
      "execution_count": 9,
      "outputs": [
        {
          "output_type": "execute_result",
          "data": {
            "text/plain": [
              "RandomForestClassifier(class_weight='balanced_subsample')"
            ],
            "text/html": [
              "<style>#sk-container-id-2 {color: black;background-color: white;}#sk-container-id-2 pre{padding: 0;}#sk-container-id-2 div.sk-toggleable {background-color: white;}#sk-container-id-2 label.sk-toggleable__label {cursor: pointer;display: block;width: 100%;margin-bottom: 0;padding: 0.3em;box-sizing: border-box;text-align: center;}#sk-container-id-2 label.sk-toggleable__label-arrow:before {content: \"▸\";float: left;margin-right: 0.25em;color: #696969;}#sk-container-id-2 label.sk-toggleable__label-arrow:hover:before {color: black;}#sk-container-id-2 div.sk-estimator:hover label.sk-toggleable__label-arrow:before {color: black;}#sk-container-id-2 div.sk-toggleable__content {max-height: 0;max-width: 0;overflow: hidden;text-align: left;background-color: #f0f8ff;}#sk-container-id-2 div.sk-toggleable__content pre {margin: 0.2em;color: black;border-radius: 0.25em;background-color: #f0f8ff;}#sk-container-id-2 input.sk-toggleable__control:checked~div.sk-toggleable__content {max-height: 200px;max-width: 100%;overflow: auto;}#sk-container-id-2 input.sk-toggleable__control:checked~label.sk-toggleable__label-arrow:before {content: \"▾\";}#sk-container-id-2 div.sk-estimator input.sk-toggleable__control:checked~label.sk-toggleable__label {background-color: #d4ebff;}#sk-container-id-2 div.sk-label input.sk-toggleable__control:checked~label.sk-toggleable__label {background-color: #d4ebff;}#sk-container-id-2 input.sk-hidden--visually {border: 0;clip: rect(1px 1px 1px 1px);clip: rect(1px, 1px, 1px, 1px);height: 1px;margin: -1px;overflow: hidden;padding: 0;position: absolute;width: 1px;}#sk-container-id-2 div.sk-estimator {font-family: monospace;background-color: #f0f8ff;border: 1px dotted black;border-radius: 0.25em;box-sizing: border-box;margin-bottom: 0.5em;}#sk-container-id-2 div.sk-estimator:hover {background-color: #d4ebff;}#sk-container-id-2 div.sk-parallel-item::after {content: \"\";width: 100%;border-bottom: 1px solid gray;flex-grow: 1;}#sk-container-id-2 div.sk-label:hover label.sk-toggleable__label {background-color: #d4ebff;}#sk-container-id-2 div.sk-serial::before {content: \"\";position: absolute;border-left: 1px solid gray;box-sizing: border-box;top: 0;bottom: 0;left: 50%;z-index: 0;}#sk-container-id-2 div.sk-serial {display: flex;flex-direction: column;align-items: center;background-color: white;padding-right: 0.2em;padding-left: 0.2em;position: relative;}#sk-container-id-2 div.sk-item {position: relative;z-index: 1;}#sk-container-id-2 div.sk-parallel {display: flex;align-items: stretch;justify-content: center;background-color: white;position: relative;}#sk-container-id-2 div.sk-item::before, #sk-container-id-2 div.sk-parallel-item::before {content: \"\";position: absolute;border-left: 1px solid gray;box-sizing: border-box;top: 0;bottom: 0;left: 50%;z-index: -1;}#sk-container-id-2 div.sk-parallel-item {display: flex;flex-direction: column;z-index: 1;position: relative;background-color: white;}#sk-container-id-2 div.sk-parallel-item:first-child::after {align-self: flex-end;width: 50%;}#sk-container-id-2 div.sk-parallel-item:last-child::after {align-self: flex-start;width: 50%;}#sk-container-id-2 div.sk-parallel-item:only-child::after {width: 0;}#sk-container-id-2 div.sk-dashed-wrapped {border: 1px dashed gray;margin: 0 0.4em 0.5em 0.4em;box-sizing: border-box;padding-bottom: 0.4em;background-color: white;}#sk-container-id-2 div.sk-label label {font-family: monospace;font-weight: bold;display: inline-block;line-height: 1.2em;}#sk-container-id-2 div.sk-label-container {text-align: center;}#sk-container-id-2 div.sk-container {/* jupyter's `normalize.less` sets `[hidden] { display: none; }` but bootstrap.min.css set `[hidden] { display: none !important; }` so we also need the `!important` here to be able to override the default hidden behavior on the sphinx rendered scikit-learn.org. See: https://github.com/scikit-learn/scikit-learn/issues/21755 */display: inline-block !important;position: relative;}#sk-container-id-2 div.sk-text-repr-fallback {display: none;}</style><div id=\"sk-container-id-2\" class=\"sk-top-container\"><div class=\"sk-text-repr-fallback\"><pre>RandomForestClassifier(class_weight=&#x27;balanced_subsample&#x27;)</pre><b>In a Jupyter environment, please rerun this cell to show the HTML representation or trust the notebook. <br />On GitHub, the HTML representation is unable to render, please try loading this page with nbviewer.org.</b></div><div class=\"sk-container\" hidden><div class=\"sk-item\"><div class=\"sk-estimator sk-toggleable\"><input class=\"sk-toggleable__control sk-hidden--visually\" id=\"sk-estimator-id-2\" type=\"checkbox\" checked><label for=\"sk-estimator-id-2\" class=\"sk-toggleable__label sk-toggleable__label-arrow\">RandomForestClassifier</label><div class=\"sk-toggleable__content\"><pre>RandomForestClassifier(class_weight=&#x27;balanced_subsample&#x27;)</pre></div></div></div></div></div>"
            ]
          },
          "metadata": {},
          "execution_count": 9
        }
      ]
    },
    {
      "cell_type": "markdown",
      "source": [
        "# Print Out Feature Importance"
      ],
      "metadata": {
        "id": "n46PxzIHBRF0"
      }
    },
    {
      "cell_type": "code",
      "source": [
        "for f, s in zip(X_train.columns, rfc.feature_importances_):\n",
        "  print(f\"Feature: {f}, score: {s}\")"
      ],
      "metadata": {
        "colab": {
          "base_uri": "https://localhost:8080/"
        },
        "id": "zQDBfz4NAokP",
        "outputId": "0f8cd535-904d-463d-ce25-93e0f8b45911"
      },
      "execution_count": 10,
      "outputs": [
        {
          "output_type": "stream",
          "name": "stdout",
          "text": [
            "Feature: V1, score: 0.010946176981911084\n",
            "Feature: V2, score: 0.02751307683942977\n",
            "Feature: V3, score: 0.04036853324078486\n",
            "Feature: V4, score: 0.07737358941908348\n",
            "Feature: V5, score: 0.006144012828429494\n",
            "Feature: V6, score: 0.006436507906277318\n",
            "Feature: V7, score: 0.04344785617351895\n",
            "Feature: V8, score: 0.012575705957076086\n",
            "Feature: V9, score: 0.01354259554112093\n",
            "Feature: V10, score: 0.1272149567205713\n",
            "Feature: V11, score: 0.07027370114834708\n",
            "Feature: V12, score: 0.1414499437443634\n",
            "Feature: V13, score: 0.005741865807695538\n",
            "Feature: V14, score: 0.12797062502480447\n",
            "Feature: V15, score: 0.007797451298020478\n",
            "Feature: V16, score: 0.05651666171792831\n",
            "Feature: V17, score: 0.11226547009441709\n",
            "Feature: V18, score: 0.010195734417347458\n",
            "Feature: V19, score: 0.014704177261768701\n",
            "Feature: V20, score: 0.010961119918409616\n",
            "Feature: V21, score: 0.014408507819972171\n",
            "Feature: V22, score: 0.0063600508203312004\n",
            "Feature: V23, score: 0.007227837752917327\n",
            "Feature: V24, score: 0.004002364905791107\n",
            "Feature: V25, score: 0.007068853315521253\n",
            "Feature: V26, score: 0.006545336478146735\n",
            "Feature: V27, score: 0.00556491126808759\n",
            "Feature: V28, score: 0.007287110991054524\n",
            "Feature: Amount, score: 0.013508736030186071\n",
            "Feature: Time-Mod, score: 0.00458652857668672\n"
          ]
        }
      ]
    }
  ]
}