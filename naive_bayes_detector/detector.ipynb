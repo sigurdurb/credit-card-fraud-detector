{
 "cells": [
  {
   "cell_type": "code",
   "execution_count": 2,
   "id": "35ce6740",
   "metadata": {},
   "outputs": [],
   "source": [
    "import pandas as pd\n",
    "\n",
    "from sklearn.model_selection import train_test_split\n",
    "from sklearn.naive_bayes import GaussianNB"
   ]
  },
  {
   "cell_type": "code",
   "execution_count": 37,
   "id": "9bb56d06",
   "metadata": {},
   "outputs": [],
   "source": [
    "from sklearn import metrics\n",
    "from sklearn.metrics import accuracy_score, recall_score, precision_score, f1_score, matthews_corrcoef\n",
    "from sklearn.metrics import confusion_matrix, auc, roc_auc_score, ConfusionMatrixDisplay\n"
   ]
  },
  {
   "cell_type": "code",
   "execution_count": 38,
   "id": "97045565",
   "metadata": {},
   "outputs": [],
   "source": [
    "def load_data(test_size, drop_cols):\n",
    "    df = pd.read_csv('../../creditcard.csv')\n",
    "    if drop_cols:\n",
    "        df = df.drop(drop_cols,axis=1)\n",
    "    \n",
    "    print(df.head(3))\n",
    "    # Split the dataset into features (X) and target (y)\n",
    "    X = df.iloc[:, :-1] # Extract all columns except the last one (which is the target)\n",
    "    y = df.iloc[:, -1] # Extract only the last column (which is the target)\n",
    "\n",
    "\n",
    "    # Split the dataset into training and testing sets\n",
    "    return train_test_split(X, y, test_size=test_size, random_state=42, stratify=y)"
   ]
  },
  {
   "cell_type": "code",
   "execution_count": 39,
   "id": "3ea10b05",
   "metadata": {},
   "outputs": [],
   "source": [
    "def predict(X_train, X_test, y_train, y_test):\n",
    "    gnb = GaussianNB()\n",
    "    gnb.fit(X_train, y_train)\n",
    "    y_pred = gnb.predict(X_test)\n",
    "    y_pred_prob = gnb.predict_proba(X_test)\n",
    "\n",
    "    return y_pred, y_pred_prob, gnb"
   ]
  },
  {
   "cell_type": "code",
   "execution_count": 40,
   "id": "fbcd6912",
   "metadata": {},
   "outputs": [],
   "source": [
    "def print_performance(y_test, y_pred, y_pred_prob):\n",
    "    print(\"Accuracy: \", accuracy_score(y_test,y_pred))\n",
    "    print(\"Recall: \", recall_score(y_test,y_pred))\n",
    "    print(\"Precision: \", precision_score(y_test,y_pred))\n",
    "    print(\"F1: \", f1_score(y_test,y_pred))\n",
    "    print(\"MCC: \", matthews_corrcoef(y_test,y_pred))\n",
    "    print(\"ROC AUC: {}\".format(roc_auc_score(y_test, y_pred_prob[:,1])))\n",
    "    return confusion_matrix(y_test,y_pred)\n",
    "    #print('test-set confusion matrix:\\n', confusion_matrix(y_test,y_pred)) \n",
    "    "
   ]
  },
  {
   "cell_type": "code",
   "execution_count": null,
   "id": "2a4e0fee",
   "metadata": {},
   "outputs": [],
   "source": []
  },
  {
   "cell_type": "code",
   "execution_count": 41,
   "id": "9747ce1b",
   "metadata": {},
   "outputs": [],
   "source": [
    "def run_detector(drop_cols = False):\n",
    "    # Print the sizes of the training and testing sets\n",
    "    import matplotlib.pyplot as plt\n",
    "    test_size = 0.2\n",
    "    X_train, X_test, y_train, y_test = load_data(test_size, drop_cols)\n",
    "    print(\"Training set size:\", len(X_train))\n",
    "    print(\"Testing set size:\", len(X_test))\n",
    "    y_pred, y_pred_prob, gnb = predict(X_train, X_test, y_train, y_test)\n",
    "    conf_mtx = print_performance(y_test,y_pred,y_pred_prob)\n",
    "    disp = ConfusionMatrixDisplay(confusion_matrix=conf_mtx, display_labels=gnb.classes_)\n",
    "    disp.plot()\n",
    "    plt.show()\n",
    "\n"
   ]
  },
  {
   "cell_type": "code",
   "execution_count": 43,
   "id": "dc15b251",
   "metadata": {},
   "outputs": [
    {
     "name": "stdout",
     "output_type": "stream",
     "text": [
      "   Time        V1        V2        V3        V4        V5        V6        V7  \\\n",
      "0   0.0 -1.359807 -0.072781  2.536347  1.378155 -0.338321  0.462388  0.239599   \n",
      "1   0.0  1.191857  0.266151  0.166480  0.448154  0.060018 -0.082361 -0.078803   \n",
      "2   1.0 -1.358354 -1.340163  1.773209  0.379780 -0.503198  1.800499  0.791461   \n",
      "\n",
      "         V8        V9  ...       V21       V22       V23       V24       V25  \\\n",
      "0  0.098698  0.363787  ... -0.018307  0.277838 -0.110474  0.066928  0.128539   \n",
      "1  0.085102 -0.255425  ... -0.225775 -0.638672  0.101288 -0.339846  0.167170   \n",
      "2  0.247676 -1.514654  ...  0.247998  0.771679  0.909412 -0.689281 -0.327642   \n",
      "\n",
      "        V26       V27       V28  Amount  Class  \n",
      "0 -0.189115  0.133558 -0.021053  149.62      0  \n",
      "1  0.125895 -0.008983  0.014724    2.69      0  \n",
      "2 -0.139097 -0.055353 -0.059752  378.66      0  \n",
      "\n",
      "[3 rows x 31 columns]\n",
      "Training set size: 227845\n",
      "Testing set size: 56962\n",
      "Accuracy:  0.9922755521224677\n",
      "Recall:  0.6632653061224489\n",
      "Precision:  0.13771186440677965\n",
      "F1:  0.2280701754385965\n",
      "MCC:  0.29995092569555615\n",
      "ROC AUC: 0.967730650574805\n"
     ]
    },
    {
     "data": {
      "image/png": "[encoded data removed]",
      "text/plain": [
       "<Figure size 432x288 with 2 Axes>"
      ]
     },
     "metadata": {
      "needs_background": "light"
     },
     "output_type": "display_data"
    },
    {
     "name": "stdout",
     "output_type": "stream",
     "text": [
      "         V1        V2        V3        V4        V5        V6        V7  \\\n",
      "0 -1.359807 -0.072781  2.536347  1.378155 -0.338321  0.462388  0.239599   \n",
      "1  1.191857  0.266151  0.166480  0.448154  0.060018 -0.082361 -0.078803   \n",
      "2 -1.358354 -1.340163  1.773209  0.379780 -0.503198  1.800499  0.791461   \n",
      "\n",
      "         V9       V10       V11       V12       V14       V16       V17  \\\n",
      "0  0.363787  0.090794 -0.551600 -0.617801 -0.311169 -0.470401  0.207971   \n",
      "1 -0.255425 -0.166974  1.612727  1.065235 -0.143772  0.463917 -0.114805   \n",
      "2 -1.514654  0.207643  0.624501  0.066084 -0.165946 -2.890083  1.109969   \n",
      "\n",
      "        V18       V19       V21  Amount  Class  \n",
      "0  0.025791  0.403993 -0.018307  149.62      0  \n",
      "1 -0.183361 -0.145783 -0.225775    2.69      0  \n",
      "2 -0.121359 -2.261857  0.247998  378.66      0  \n",
      "Training set size: 227845\n",
      "Testing set size: 56962\n",
      "Accuracy:  0.9834977704434535\n",
      "Recall:  0.8775510204081632\n",
      "Precision:  0.08481262327416174\n",
      "F1:  0.15467625899280577\n",
      "MCC:  0.26992326969624986\n",
      "ROC AUC: 0.9613549837492679\n"
     ]
    },
    {
     "data": {
      "image/png": "[encoded data removed]",
      "text/plain": [
       "<Figure size 432x288 with 2 Axes>"
      ]
     },
     "metadata": {
      "needs_background": "light"
     },
     "output_type": "display_data"
    },
    {
     "name": "stdout",
     "output_type": "stream",
     "text": [
      "         V2        V3        V4        V5        V6        V8        V9  \\\n",
      "0 -0.072781  2.536347  1.378155 -0.338321  0.462388  0.098698  0.363787   \n",
      "1  0.266151  0.166480  0.448154  0.060018 -0.082361  0.085102 -0.255425   \n",
      "2 -1.340163  1.773209  0.379780 -0.503198  1.800499  0.247676 -1.514654   \n",
      "\n",
      "        V10       V11       V12       V14       V16       V17       V18  \\\n",
      "0  0.090794 -0.551600 -0.617801 -0.311169 -0.470401  0.207971  0.025791   \n",
      "1 -0.166974  1.612727  1.065235 -0.143772  0.463917 -0.114805 -0.183361   \n",
      "2  0.207643  0.624501  0.066084 -0.165946 -2.890083  1.109969 -0.121359   \n",
      "\n",
      "        V22       V23       V25  Amount  Class  \n",
      "0  0.277838 -0.110474  0.128539  149.62      0  \n",
      "1 -0.638672  0.101288  0.167170    2.69      0  \n",
      "2  0.771679  0.909412 -0.327642  378.66      0  \n",
      "Training set size: 227845\n",
      "Testing set size: 56962\n",
      "Accuracy:  0.9832695481197992\n",
      "Recall:  0.8775510204081632\n",
      "Precision:  0.08373904576436222\n",
      "F1:  0.1528888888888889\n",
      "MCC:  0.2681694146266111\n",
      "ROC AUC: 0.9613452038806518\n"
     ]
    },
    {
     "data": {
      "image/png": "[encoded data removed]",
      "text/plain": [
       "<Figure size 432x288 with 2 Axes>"
      ]
     },
     "metadata": {
      "needs_background": "light"
     },
     "output_type": "display_data"
    }
   ],
   "source": [
    "if __name__ == '__main__':\n",
    "    drop_cols = None\n",
    "    \n",
    "    run_detector(drop_cols)\n",
    "    drop_cols = ['Time','V28','V27','V26','V25','V24','V23','V22','V20','V15','V13','V8']\n",
    "    run_detector(drop_cols)\n",
    "    drop_cols = ['Time','V1','V20','V21','V7','V13','V26','V19','V24','V15','V13','V27','V28']\n",
    "    run_detector(drop_cols)\n",
    "    "
   ]
  },
  {
   "cell_type": "code",
   "execution_count": null,
   "id": "f2189ff8",
   "metadata": {},
   "outputs": [],
   "source": []
  },
  {
   "cell_type": "code",
   "execution_count": null,
   "id": "2965b2c8",
   "metadata": {},
   "outputs": [],
   "source": []
  }
 ],
 "metadata": {
  "kernelspec": {
   "display_name": "Python [conda env:gagr2022]",
   "language": "python",
   "name": "conda-env-gagr2022-py"
  },
  "language_info": {
   "codemirror_mode": {
    "name": "ipython",
    "version": 3
   },
   "file_extension": ".py",
   "mimetype": "text/x-python",
   "name": "python",
   "nbconvert_exporter": "python",
   "pygments_lexer": "ipython3",
   "version": "3.9.9"
  }
 },
 "nbformat": 4,
 "nbformat_minor": 5
}
