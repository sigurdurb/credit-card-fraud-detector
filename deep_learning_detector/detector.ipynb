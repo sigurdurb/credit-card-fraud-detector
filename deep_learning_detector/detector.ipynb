{
 "cells": [
  {
   "cell_type": "code",
   "execution_count": 1,
   "metadata": {
    "collapsed": true,
    "pycharm": {
     "name": "#%%\n"
    }
   },
   "outputs": [],
   "source": [
    "from sklearn.metrics import confusion_matrix, make_scorer, ConfusionMatrixDisplay, accuracy_score, recall_score, precision_score, f1_score\n",
    "from sklearn.model_selection import train_test_split\n",
    "from detector import load_data, preprocess_data, train_model, load_model, predict as dl_predict\n",
    "from matplotlib import pyplot as plt"
   ]
  },
  {
   "cell_type": "code",
   "execution_count": 2,
   "outputs": [],
   "source": [
    "X_train_test, _, y_train_test, _ = load_data()\n",
    "X_train_test = preprocess_data(X_train_test)\n",
    "\n",
    "# Split training data into train/test\n",
    "X_train, X_test, y_train, y_test = train_test_split(X_train_test, y_train_test, train_size=0.8, test_size=0.2, shuffle=True,\n",
    "                                                    random_state=37, stratify=y_train_test)"
   ],
   "metadata": {
    "collapsed": false,
    "pycharm": {
     "name": "#%%\n"
    }
   }
  },
  {
   "cell_type": "code",
   "execution_count": 4,
   "outputs": [
    {
     "name": "stdout",
     "output_type": "stream",
     "text": [
      "5697/5697 [==============================] - 15s 2ms/step - loss: 0.0015 - precision: 0.1722 - recall: 0.6127\n"
     ]
    }
   ],
   "source": [
    "model = train_model(X_train, y_train)"
   ],
   "metadata": {
    "collapsed": false,
    "pycharm": {
     "name": "#%%\n"
    }
   }
  },
  {
   "cell_type": "code",
   "execution_count": 5,
   "outputs": [
    {
     "name": "stdout",
     "output_type": "stream",
     "text": [
      "5697/5697 [==============================] - 14s 2ms/step\n",
      "1425/1425 [==============================] - 2s 2ms/step\n",
      "Accuracy:  0.9991441550176655\n",
      "Recall:  0.759493670886076\n",
      "Precision:  0.75\n",
      "F1:  0.7547169811320755\n"
     ]
    }
   ],
   "source": [
    "def test_model(model):\n",
    "    y_train_pred = model.predict(X_train)\n",
    "    conf_mat = confusion_matrix(y_train, y_train_pred)\n",
    "    disp = ConfusionMatrixDisplay(confusion_matrix=conf_mat, display_labels=model.classes_)\n",
    "    disp.plot()\n",
    "    plt.show()\n",
    "\n",
    "    # Plot test\n",
    "    y_pred = model.predict(X_test)\n",
    "    conf_mat = confusion_matrix(y_test, y_pred)\n",
    "    disp = ConfusionMatrixDisplay(confusion_matrix=conf_mat, display_labels=model.classes_)\n",
    "    disp.plot()\n",
    "    plt.show()\n",
    "\n",
    "    print(\"Accuracy: \", accuracy_score(y_test, y_pred))\n",
    "    print(\"Recall: \", recall_score(y_test, y_pred))\n",
    "    print(\"Precision: \", precision_score(y_test, y_pred))\n",
    "    print(\"F1: \", f1_score(y_test, y_pred))\n",
    "\n",
    "test_model(model)"
   ],
   "metadata": {
    "collapsed": false,
    "pycharm": {
     "name": "#%%\n"
    }
   }
  },
  {
   "cell_type": "code",
   "execution_count": null,
   "outputs": [],
   "source": [
    "model.model.save('new_best_model.h5')"
   ],
   "metadata": {
    "collapsed": false,
    "pycharm": {
     "name": "#%%\n"
    }
   }
  },
  {
   "cell_type": "code",
   "execution_count": 5,
   "outputs": [
    {
     "name": "stdout",
     "output_type": "stream",
     "text": [
      "1425/1425 [==============================] - 2s 1ms/step\n",
      "[[0]\n",
      " [0]\n",
      " [0]\n",
      " ...\n",
      " [0]\n",
      " [0]\n",
      " [0]]\n"
     ]
    }
   ],
   "source": [
    "# Load un-preprocessed data\n",
    "X_train_test, _, y_train_test, _ = load_data()\n",
    "\n",
    "X_train, X_test, y_train, y_test = train_test_split(X_train_test, y_train_test, train_size=0.8, test_size=0.2, shuffle=True,\n",
    "                                                    random_state=37, stratify=y_train_test)\n",
    "\n",
    "y_pred = dl_predict(X_test)"
   ],
   "metadata": {
    "collapsed": false,
    "pycharm": {
     "name": "#%%\n"
    }
   }
  }
 ],
 "metadata": {
  "kernelspec": {
   "display_name": "Python 3",
   "language": "python",
   "name": "python3"
  },
  "language_info": {
   "codemirror_mode": {
    "name": "ipython",
    "version": 2
   },
   "file_extension": ".py",
   "mimetype": "text/x-python",
   "name": "python",
   "nbconvert_exporter": "python",
   "pygments_lexer": "ipython2",
   "version": "2.7.6"
  }
 },
 "nbformat": 4,
 "nbformat_minor": 0
}