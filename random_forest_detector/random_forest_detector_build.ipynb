{
  "nbformat": 4,
  "nbformat_minor": 0,
  "metadata": {
    "colab": {
      "provenance": []
    },
    "kernelspec": {
      "name": "python3",
      "display_name": "Python 3"
    },
    "language_info": {
      "name": "python"
    }
  },
  "cells": [
    {
      "cell_type": "code",
      "source": [
        "! pip install -q kaggle\n",
        "! mkdir ~/.kaggle\n",
        "! cp kaggle.json ~/.kaggle/\n",
        "! chmod 600 ~/.kaggle/kaggle.json\n",
        "! kaggle datasets download -d mlg-ulb/creditcardfraud\n"
      ],
      "metadata": {
        "id": "06HZ4NZg3wlx"
      },
      "execution_count": null,
      "outputs": []
    },
    {
      "cell_type": "code",
      "source": [
        "! unzip creditcardfraud.zip"
      ],
      "metadata": {
        "id": "bG5c7f6M4g2l"
      },
      "execution_count": null,
      "outputs": []
    },
    {
      "cell_type": "code",
      "execution_count": null,
      "metadata": {
        "id": "3z0FI-cX2uaP"
      },
      "outputs": [],
      "source": [
        "import pandas as pd\n",
        "import numpy as np\n",
        "\n",
        "\n",
        "from scipy.stats import reciprocal\n",
        "from sklearn.model_selection import train_test_split\n",
        "from imblearn.under_sampling import RandomUnderSampler\n",
        "from sklearn.ensemble import RandomForestClassifier\n"
      ]
    },
    {
      "cell_type": "code",
      "source": [
        "def load_data() -> tuple[pd.DataFrame, pd.DataFrame, pd.Series, pd.Series]:\n",
        "    credidcard_fraud_df = pd.read_csv('creditcard.csv')\n",
        "\n",
        "    y = credidcard_fraud_df['Class']\n",
        "    X = credidcard_fraud_df\n",
        "    X.pop('Class')\n",
        "\n",
        "    X_train, X_validate, y_train, y_validate = train_test_split(X, y, train_size=0.8, test_size=0.2, shuffle=True,\n",
        "                                                                random_state=37, stratify=y)\n",
        "    return X_train, X_validate, y_train, y_validate\n"
      ],
      "metadata": {
        "id": "WVMpjNGl3vKg"
      },
      "execution_count": null,
      "outputs": []
    },
    {
      "cell_type": "code",
      "source": [
        "X_train, _, y_train, _ = load_data()"
      ],
      "metadata": {
        "id": "akD_7aE04nzT"
      },
      "execution_count": null,
      "outputs": []
    },
    {
      "cell_type": "code",
      "source": [
        "# Local train and test set\n",
        "X_train, X_test, y_train, y_test = train_test_split(X_train, y_train, train_size=0.8, test_size=0.2)"
      ],
      "metadata": {
        "id": "N5c78ok1BuAV"
      },
      "execution_count": null,
      "outputs": []
    },
    {
      "cell_type": "markdown",
      "source": [
        "# Feature Engineering Time Stamp"
      ],
      "metadata": {
        "id": "qRcgFW-N5Sze"
      }
    },
    {
      "cell_type": "code",
      "source": [
        "X_train[\"Time-Mod\"]=(X_train[\"Time\"]%(60*60*24))/(60*60*24)\n",
        "X_train.pop('Time')"
      ],
      "metadata": {
        "id": "UecKeRpS7Cmd"
      },
      "execution_count": null,
      "outputs": []
    },
    {
      "cell_type": "code",
      "source": [
        "X_test[\"Time-Mod\"]=(X_test[\"Time\"]%(60*60*24))/(60*60*24)\n",
        "X_test.pop('Time')"
      ],
      "metadata": {
        "id": "Bu7a2ZxeCiFa"
      },
      "execution_count": null,
      "outputs": []
    },
    {
      "cell_type": "code",
      "source": [
        "# drop all exept for max 10\n",
        "# X_train1= X_train\n",
        "# X_train1.pop('Time-Mod')\n",
        "# X_train1.pop('V21')\n",
        "# X_train1.pop('V9')\n",
        "# X_train1.pop('V8')\n",
        "# X_train1.pop('V20')\n",
        "# X_train1.pop('V1')\n",
        "# X_train1.pop('V18')\n",
        "# X_train1.pop('V15')\n",
        "# X_train1.pop('V28')\n",
        "# X_train1.pop('V23')\n",
        "# X_train1.pop('Amount')\n",
        "# X_train1.pop('V25')\n",
        "# X_train1.pop('V26')\n",
        "# X_train1.pop('V6')\n",
        "# X_train1.pop('V22')\n",
        "# X_train1.pop('V5')\n",
        "# X_train1.pop('V13')\n",
        "# X_train1.pop('V27')\n",
        "# X_train1.pop('V24')\n",
        "\n"
      ],
      "metadata": {
        "id": "ZyOmShAwlEz9"
      },
      "execution_count": null,
      "outputs": []
    },
    {
      "cell_type": "code",
      "source": [
        "# drop all exept for max 10\n",
        "# X_test1= X_test\n",
        "# X_test1.pop('Time-Mod')\n",
        "# X_test1.pop('V21')\n",
        "# X_test1.pop('V9')\n",
        "# X_test1.pop('V8')\n",
        "# X_test1.pop('V20')\n",
        "# X_test1.pop('V1')\n",
        "# X_test1.pop('V18')\n",
        "# X_test1.pop('V15')\n",
        "# X_test1.pop('V28')\n",
        "# X_test1.pop('V23')\n",
        "# X_test1.pop('Amount')\n",
        "# X_test1.pop('V25')\n",
        "# X_test1.pop('V26')\n",
        "# X_test1.pop('V6')\n",
        "# X_test1.pop('V22')\n",
        "# X_test1.pop('V5')\n",
        "# X_test1.pop('V13')\n",
        "# X_test1.pop('V27')\n",
        "# X_test1.pop('V24')\n"
      ],
      "metadata": {
        "id": "e267dumEnf5-"
      },
      "execution_count": null,
      "outputs": []
    },
    {
      "cell_type": "markdown",
      "source": [
        "# Random Under Sample "
      ],
      "metadata": {
        "id": "pOAzQX5x9nTf"
      }
    },
    {
      "cell_type": "code",
      "source": [
        "# print(f'Original dataset distribution: (Fraud: {sum(y_train)}, !Fraud: {len(y_train)-sum(y_train)})')\n",
        "\n",
        "# rus = RandomUnderSampler(sampling_strategy=0.01)\n",
        "# X_train_bal, y_train_bal = rus.fit_resample(X_train, y_train)\n",
        "\n",
        "# print(f'Balanced dataset distribution: (Fraud: {sum(y_train_bal)}, !Fraud: {len(y_train_bal)-sum(y_train_bal)})')\n"
      ],
      "metadata": {
        "id": "KrU4_OCE9mur"
      },
      "execution_count": null,
      "outputs": []
    },
    {
      "cell_type": "markdown",
      "source": [
        "# Random Forest Classifyier\n"
      ],
      "metadata": {
        "id": "foW-Gs-m_cvK"
      }
    },
    {
      "cell_type": "code",
      "source": [
        "# random forest model creation\n",
        "rfc = RandomForestClassifier(n_estimators=35, criterion = \"entropy\", max_features = \"sqrt\", n_jobs= 24)\n",
        "rfc.fit(X_train, y_train)\n",
        "# predictions\n",
        "y_pred = rfc.predict(X_test)"
      ],
      "metadata": {
        "id": "kW8d20mvCSi7"
      },
      "execution_count": null,
      "outputs": []
    },
    {
      "cell_type": "markdown",
      "source": [
        "# Evaudate"
      ],
      "metadata": {
        "id": "IBefjuR-CrhX"
      }
    },
    {
      "cell_type": "code",
      "source": [
        "import matplotlib.pyplot as plt\n",
        "import seaborn as sns\n",
        "from sklearn.metrics import accuracy_score,precision_score,recall_score,f1_score,matthews_corrcoef, cohen_kappa_score\n",
        "\n",
        "def get_stats_of_results(y_gt, y_pred):\n",
        "\n",
        "    acc= accuracy_score(y_test,y_pred)\n",
        "    prec= precision_score(y_test,y_pred)\n",
        "    recall= recall_score(y_test,y_pred)\n",
        "    f1= f1_score(y_test,y_pred)\n",
        "    mcc= matthews_corrcoef(y_test,y_pred)\n",
        "    kappa= cohen_kappa_score(y_test, y_pred)\n",
        "    \n",
        "    return acc, prec, recall, f1, mcc, kappa"
      ],
      "metadata": {
        "id": "GJ5yQsMhYjLD"
      },
      "execution_count": null,
      "outputs": []
    },
    {
      "cell_type": "code",
      "source": [
        "from matplotlib.cbook import print_cycles\n",
        "\n",
        "import matplotlib.pyplot as plt\n",
        "import seaborn as sns\n",
        "from sklearn.metrics import accuracy_score,precision_score,recall_score,f1_score,matthews_corrcoef, cohen_kappa_score\n",
        "from sklearn.metrics import confusion_matrix\n",
        "\n",
        "\n",
        "acc, prec, recall, f1, mcc, kappa = get_stats_of_results(y_test, y_pred)\n",
        "\n",
        "# pretty print\n",
        "print(f\"The accuracy is  {acc}\")\n",
        "print(f\"The precision is {prec}\")\n",
        "print(f\"The recall is {recall}\")\n",
        "print(f\"The F1-Score is {f1}\")\n",
        "print(f\"The Matthews correlation coefficient is {mcc}\")\n",
        "print(f\"The Cohen’s kappa is {kappa}\")\n",
        "\n",
        "\n",
        "conf_matrix = confusion_matrix(y_test, y_pred)\n",
        "print(conf_matrix)\n",
        "plt.figure(figsize=(5,5))\n",
        "sns.heatmap(conf_matrix, annot=True, fmt=\"d\");\n",
        "plt.title(\"Confusion matrix\")\n",
        "plt.ylabel('True class')\n",
        "plt.xlabel('Predicted class')\n",
        "plt.show()\n",
        "\n"
      ],
      "metadata": {
        "id": "oWZLv3dfCq_X"
      },
      "execution_count": null,
      "outputs": []
    },
    {
      "cell_type": "markdown",
      "source": [
        "Save and Load"
      ],
      "metadata": {
        "id": "2qr5Nde4qPR0"
      }
    },
    {
      "cell_type": "code",
      "source": [
        "! pip install cpickle"
      ],
      "metadata": {
        "id": "_T0UHdnoYUGx"
      },
      "execution_count": null,
      "outputs": []
    },
    {
      "cell_type": "code",
      "source": [
        "import pickle\n",
        "\n",
        "\n",
        "with open('rf_v1_original_bezt', 'wb') as f:\n",
        "    pickle.dump(rfc, f)\n",
        "\n",
        "\n"
      ],
      "metadata": {
        "id": "lvwpq8LdXVL7"
      },
      "execution_count": null,
      "outputs": []
    },
    {
      "cell_type": "code",
      "source": [
        "with open('rf_v1_original_data_modifitime', 'rb') as f:\n",
        "    rfc = pickle.load(f)\n"
      ],
      "metadata": {
        "id": "B4nIw2EMY1mP"
      },
      "execution_count": null,
      "outputs": []
    }
  ]
}