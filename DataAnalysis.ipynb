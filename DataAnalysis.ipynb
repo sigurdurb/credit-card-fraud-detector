{
 "cells": [
  {
   "cell_type": "markdown",
   "id": "89053e50",
   "metadata": {},
   "source": [
    "# Data Analysis\n",
    "\n",
    "\n",
    "\n"
   ]
  },
  {
   "cell_type": "markdown",
   "id": "9f10d552",
   "metadata": {},
   "source": [
    "### Import libraries"
   ]
  },
  {
   "cell_type": "code",
   "execution_count": 16,
   "id": "eb76e7c3",
   "metadata": {},
   "outputs": [],
   "source": [
    "import pandas as pd\n"
   ]
  },
  {
   "cell_type": "markdown",
   "id": "56a992dd",
   "metadata": {},
   "source": [
    "### Read data"
   ]
  },
  {
   "cell_type": "code",
   "execution_count": 18,
   "id": "5cbb7397",
   "metadata": {},
   "outputs": [
    {
     "name": "stderr",
     "output_type": "stream",
     "text": [
      "The syntax of the command is incorrect.\n",
      "'cp' is not recognized as an internal or external command,\n",
      "operable program or batch file.\n",
      "'chmod' is not recognized as an internal or external command,\n",
      "operable program or batch file.\n"
     ]
    },
    {
     "name": "stdout",
     "output_type": "stream",
     "text": [
      "Downloading creditcardfraud.zip to c:\\Users\\EfaOsk\\Documents\\credit-card-fraud-detector\n",
      "\n"
     ]
    },
    {
     "name": "stderr",
     "output_type": "stream",
     "text": [
      "\n",
      "  0%|          | 0.00/66.0M [00:00<?, ?B/s]\n",
      "  2%|▏         | 1.00M/66.0M [00:00<00:18, 3.75MB/s]\n",
      "  6%|▌         | 4.00M/66.0M [00:00<00:05, 11.4MB/s]\n",
      "  9%|▉         | 6.00M/66.0M [00:00<00:07, 8.60MB/s]\n",
      " 12%|█▏        | 8.00M/66.0M [00:01<00:07, 8.19MB/s]\n",
      " 14%|█▎        | 9.00M/66.0M [00:01<00:07, 8.23MB/s]\n",
      " 15%|█▌        | 10.0M/66.0M [00:01<00:07, 7.54MB/s]\n",
      " 17%|█▋        | 11.0M/66.0M [00:01<00:09, 6.33MB/s]\n",
      " 20%|█▉        | 13.0M/66.0M [00:01<00:06, 8.26MB/s]\n",
      " 21%|██        | 14.0M/66.0M [00:01<00:06, 8.50MB/s]\n",
      " 24%|██▍       | 16.0M/66.0M [00:02<00:05, 9.11MB/s]\n",
      " 26%|██▌       | 17.0M/66.0M [00:02<00:10, 4.81MB/s]\n",
      " 29%|██▉       | 19.0M/66.0M [00:02<00:08, 6.00MB/s]\n",
      " 30%|███       | 20.0M/66.0M [00:03<00:08, 5.72MB/s]\n",
      " 32%|███▏      | 21.0M/66.0M [00:03<00:08, 5.83MB/s]\n",
      " 33%|███▎      | 22.0M/66.0M [00:03<00:07, 6.22MB/s]\n",
      " 35%|███▍      | 23.0M/66.0M [00:03<00:06, 6.74MB/s]\n",
      " 36%|███▋      | 24.0M/66.0M [00:03<00:06, 7.16MB/s]\n",
      " 39%|███▉      | 26.0M/66.0M [00:03<00:04, 9.91MB/s]\n",
      " 44%|████▍     | 29.0M/66.0M [00:03<00:02, 13.9MB/s]\n",
      " 49%|████▊     | 32.0M/66.0M [00:03<00:02, 16.7MB/s]\n",
      " 53%|█████▎    | 35.0M/66.0M [00:04<00:01, 18.6MB/s]\n",
      " 56%|█████▌    | 37.0M/66.0M [00:04<00:01, 17.1MB/s]\n",
      " 59%|█████▉    | 39.0M/66.0M [00:04<00:01, 16.0MB/s]\n",
      " 64%|██████▎   | 42.0M/66.0M [00:04<00:01, 17.9MB/s]\n",
      " 67%|██████▋   | 44.0M/66.0M [00:04<00:01, 15.9MB/s]\n",
      " 70%|██████▉   | 46.0M/66.0M [00:04<00:01, 15.5MB/s]\n",
      " 74%|███████▍  | 49.0M/66.0M [00:04<00:00, 18.6MB/s]\n",
      " 77%|███████▋  | 51.0M/66.0M [00:05<00:00, 17.9MB/s]\n",
      " 80%|████████  | 53.0M/66.0M [00:05<00:00, 15.8MB/s]\n",
      " 85%|████████▍ | 56.0M/66.0M [00:05<00:00, 18.8MB/s]\n",
      " 89%|████████▉ | 59.0M/66.0M [00:05<00:00, 21.5MB/s]\n",
      " 94%|█████████▍| 62.0M/66.0M [00:05<00:00, 18.3MB/s]\n",
      " 99%|█████████▊| 65.0M/66.0M [00:05<00:00, 20.5MB/s]\n",
      "100%|██████████| 66.0M/66.0M [00:05<00:00, 11.8MB/s]\n"
     ]
    }
   ],
   "source": [
    "! pip install -q kaggle\n",
    "! mkdir ~/.kaggle\n",
    "! cp kaggle.json ~/.kaggle/\n",
    "! chmod 600 ~/.kaggle/kaggle.json\n",
    "! kaggle datasets download -d mlg-ulb/creditcardfraud\n"
   ]
  },
  {
   "cell_type": "code",
   "execution_count": 20,
   "id": "1f736d29",
   "metadata": {},
   "outputs": [
    {
     "name": "stderr",
     "output_type": "stream",
     "text": [
      "'unzip' is not recognized as an internal or external command,\n",
      "operable program or batch file.\n"
     ]
    }
   ],
   "source": [
    "! unzip creditcardfraud.zip"
   ]
  },
  {
   "cell_type": "code",
   "execution_count": null,
   "id": "33b6f7ab",
   "metadata": {},
   "outputs": [],
   "source": [
    "credidcard_fraud_df = pd.read_csv('creditcard.csv')\n"
   ]
  },
  {
   "cell_type": "markdown",
   "id": "8c51f29b",
   "metadata": {},
   "source": [
    "### General stats about the data\n",
    "\n",
    "* Attributes\n",
    "* df.describe()\n"
   ]
  },
  {
   "cell_type": "code",
   "execution_count": 4,
   "id": "fa34f848",
   "metadata": {
    "scrolled": true
   },
   "outputs": [
    {
     "name": "stdout",
     "output_type": "stream",
     "text": [
      "<class 'pandas.core.frame.DataFrame'>\n",
      "RangeIndex: 284807 entries, 0 to 284806\n",
      "Data columns (total 31 columns):\n",
      " #   Column  Non-Null Count   Dtype  \n",
      "---  ------  --------------   -----  \n",
      " 0   Time    284807 non-null  float64\n",
      " 1   V1      284807 non-null  float64\n",
      " 2   V2      284807 non-null  float64\n",
      " 3   V3      284807 non-null  float64\n",
      " 4   V4      284807 non-null  float64\n",
      " 5   V5      284807 non-null  float64\n",
      " 6   V6      284807 non-null  float64\n",
      " 7   V7      284807 non-null  float64\n",
      " 8   V8      284807 non-null  float64\n",
      " 9   V9      284807 non-null  float64\n",
      " 10  V10     284807 non-null  float64\n",
      " 11  V11     284807 non-null  float64\n",
      " 12  V12     284807 non-null  float64\n",
      " 13  V13     284807 non-null  float64\n",
      " 14  V14     284807 non-null  float64\n",
      " 15  V15     284807 non-null  float64\n",
      " 16  V16     284807 non-null  float64\n",
      " 17  V17     284807 non-null  float64\n",
      " 18  V18     284807 non-null  float64\n",
      " 19  V19     284807 non-null  float64\n",
      " 20  V20     284807 non-null  float64\n",
      " 21  V21     284807 non-null  float64\n",
      " 22  V22     284807 non-null  float64\n",
      " 23  V23     284807 non-null  float64\n",
      " 24  V24     284807 non-null  float64\n",
      " 25  V25     284807 non-null  float64\n",
      " 26  V26     284807 non-null  float64\n",
      " 27  V27     284807 non-null  float64\n",
      " 28  V28     284807 non-null  float64\n",
      " 29  Amount  284807 non-null  float64\n",
      " 30  Class   284807 non-null  int64  \n",
      "dtypes: float64(30), int64(1)\n",
      "memory usage: 67.4 MB\n"
     ]
    }
   ],
   "source": [
    "credidcard_fraud_df.info()"
   ]
  },
  {
   "cell_type": "code",
   "execution_count": 5,
   "id": "331339a1",
   "metadata": {},
   "outputs": [],
   "source": [
    "# Take aways: None null values (All data segments are complete)\n",
    "# All features are type float64, accept for the Class which is int64"
   ]
  },
  {
   "cell_type": "code",
   "execution_count": 21,
   "id": "558f9b89",
   "metadata": {},
   "outputs": [
    {
     "name": "stdout",
     "output_type": "stream",
     "text": [
      "<class 'pandas.core.frame.DataFrame'>\n",
      "RangeIndex: 284807 entries, 0 to 284806\n",
      "Data columns (total 31 columns):\n",
      " #   Column  Non-Null Count   Dtype  \n",
      "---  ------  --------------   -----  \n",
      " 0   Time    284807 non-null  float64\n",
      " 1   V1      284807 non-null  float64\n",
      " 2   V2      284807 non-null  float64\n",
      " 3   V3      284807 non-null  float64\n",
      " 4   V4      284807 non-null  float64\n",
      " 5   V5      284807 non-null  float64\n",
      " 6   V6      284807 non-null  float64\n",
      " 7   V7      284807 non-null  float64\n",
      " 8   V8      284807 non-null  float64\n",
      " 9   V9      284807 non-null  float64\n",
      " 10  V10     284807 non-null  float64\n",
      " 11  V11     284807 non-null  float64\n",
      " 12  V12     284807 non-null  float64\n",
      " 13  V13     284807 non-null  float64\n",
      " 14  V14     284807 non-null  float64\n",
      " 15  V15     284807 non-null  float64\n",
      " 16  V16     284807 non-null  float64\n",
      " 17  V17     284807 non-null  float64\n",
      " 18  V18     284807 non-null  float64\n",
      " 19  V19     284807 non-null  float64\n",
      " 20  V20     284807 non-null  float64\n",
      " 21  V21     284807 non-null  float64\n",
      " 22  V22     284807 non-null  float64\n",
      " 23  V23     284807 non-null  float64\n",
      " 24  V24     284807 non-null  float64\n",
      " 25  V25     284807 non-null  float64\n",
      " 26  V26     284807 non-null  float64\n",
      " 27  V27     284807 non-null  float64\n",
      " 28  V28     284807 non-null  float64\n",
      " 29  Amount  284807 non-null  float64\n",
      " 30  Class   284807 non-null  int64  \n",
      "dtypes: float64(30), int64(1)\n",
      "memory usage: 67.4 MB\n"
     ]
    }
   ],
   "source": [
    "# cheack for dublicates\n",
    "\n",
    "credidcard_fraud_df.drop_duplicates()\n",
    "credidcard_fraud_df.info()\n",
    "\n",
    "# No duplicates"
   ]
  },
  {
   "cell_type": "code",
   "execution_count": null,
   "id": "8129f12a",
   "metadata": {},
   "outputs": [],
   "source": [
    "#### Fit data\n"
   ]
  },
  {
   "cell_type": "code",
   "execution_count": 22,
   "id": "d0946021",
   "metadata": {},
   "outputs": [
    {
     "name": "stderr",
     "output_type": "stream",
     "text": [
      "Matplotlib is building the font cache; this may take a moment.\n"
     ]
    }
   ],
   "source": [
    "from scipy import stats\n",
    "import matplotlib.pyplot as plt\n",
    "# Stolen Code :o Then modified\n",
    "\n",
    "list_of_dists = ['alpha','anglit','arcsine','beta','betaprime','bradford',\n",
    "                 'burr','burr12','cauchy','chi','chi2','cosine','dgamma',\n",
    "                 'dweibull','erlang','expon','exponnorm','exponweib','exponpow',\n",
    "                 'f','fatiguelife','fisk','foldcauchy','foldnorm','genlogistic',\n",
    "                 'genpareto','gennorm','genexpon','genextreme','gausshyper',\n",
    "                 'gamma','gengamma','genhalflogistic','gilbrat','gompertz',\n",
    "                 'gumbel_r','gumbel_l','halfcauchy','halflogistic','halfnorm',\n",
    "                 'halfgennorm','hypsecant','invgamma','invgauss','invweibull',\n",
    "                 'johnsonsb','johnsonsu','kstwobign','laplace','levy','levy_l',\n",
    "                 'logistic','loggamma','loglaplace','lognorm','lomax','maxwell',\n",
    "                 'mielke','nakagami','ncx2','ncf','nct','norm','pareto',\n",
    "                 'pearson3','powerlaw','powerlognorm','powernorm','rdist',\n",
    "                 'reciprocal','rayleigh','rice','recipinvgauss','semicircular',\n",
    "                 't','triang','truncexpon','truncnorm','tukeylambda','uniform',\n",
    "                 'vonmises','vonmises_line','wald','weibull_min','weibull_max']\n",
    "\n",
    "\n",
    "def find_a_fitting_dist(data):\n",
    "    '''Finds a fitting distribution for data'''\n",
    "    results = list()\n",
    "    for i in list_of_dists:\n",
    "        dist = getattr(stats, i)\n",
    "        param = dist.fit(data)\n",
    "        a = stats.kstest(data, i, args=param)\n",
    "        results.append((i,a[0],a[1]))\n",
    "  \n",
    "    results.sort(key=lambda x:float(x[2]), reverse=True)\n",
    "\n",
    "    # return (<name of dist>, args*)\n",
    "    return results[0][0], getattr(stats, results[0][0]).fit(data)\n",
    "\n",
    "\n",
    "def plot_data_w_dist(data, dist, title = \"Title\", n_bins=40):\n",
    "    plt.title(title, fontsize=22, fontweight=\"bold\")\n",
    "    x= np.linspace(min(data), max(data))\n",
    "    plt.hist(data, bins = n_bins, density=True)\n",
    "    eval('plt.plot(x, stats.{}.pdf(x, {}))'.format(str(dist[0]), \n",
    "        ', '.join(list([str(x) for x in dist[1]]))))\n",
    "\n"
   ]
  },
  {
   "cell_type": "code",
   "execution_count": null,
   "id": "44077b06",
   "metadata": {},
   "outputs": [],
   "source": [
    "import warnings\n",
    "# ignore warnings\n",
    "warnings.filterwarnings('ignore')\n",
    "# TODO: Remove ? or disable\n",
    "\n",
    "# For each feature plot the data with the fitting curve\n",
    "\n",
    "for i , f_id in enumerate(credidcard_fraud_df.columns ):\n",
    "    if i>1: pass\n",
    "    # ToDo add p-value to title\n",
    "    plot_data_w_dist(credidcard_fraud_df[f_id], find_a_fitting_dist(credidcard_fraud_df[f_id]), f_id, n_bins=100)\n"
   ]
  },
  {
   "cell_type": "markdown",
   "id": "c196db05",
   "metadata": {},
   "source": [
    "### Clean and wrangle"
   ]
  },
  {
   "cell_type": "code",
   "execution_count": null,
   "id": "41f71c94",
   "metadata": {},
   "outputs": [],
   "source": []
  },
  {
   "cell_type": "markdown",
   "id": "18d7625a",
   "metadata": {},
   "source": [
    "### Do some useful stuff"
   ]
  },
  {
   "cell_type": "code",
   "execution_count": null,
   "id": "d8ffc4e5",
   "metadata": {},
   "outputs": [],
   "source": []
  },
  {
   "cell_type": "code",
   "execution_count": null,
   "id": "9a37ab81",
   "metadata": {},
   "outputs": [],
   "source": []
  }
 ],
 "metadata": {
  "kernelspec": {
   "display_name": "Python [conda env:gagr2022]",
   "language": "python",
   "name": "conda-env-gagr2022-py"
  },
  "language_info": {
   "codemirror_mode": {
    "name": "ipython",
    "version": 3
   },
   "file_extension": ".py",
   "mimetype": "text/x-python",
   "name": "python",
   "nbconvert_exporter": "python",
   "pygments_lexer": "ipython3",
   "version": "3.9.9"
  }
 },
 "nbformat": 4,
 "nbformat_minor": 5
}
