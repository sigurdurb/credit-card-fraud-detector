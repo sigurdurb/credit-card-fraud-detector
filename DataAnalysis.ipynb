{
 "cells": [
  {
   "cell_type": "markdown",
   "id": "89053e50",
   "metadata": {
    "id": "89053e50",
    "pycharm": {
     "name": "#%% md\n"
    }
   },
   "source": [
    "# Data Analysis - Credit Card Fraud Detection\n",
    "\n",
    "Apply data analitic teachneeks in oreder to get to know our data set. \n",
    "\n",
    "**Date:** March 13, 2022\n",
    "\n",
    "## Authors:\n",
    "- Eva Ósk Gunnarsdóttir (evag18@ru.is)\n",
    "- Guðmundur Óli Halldórsson (gudmunduroh20@ru.is)\n",
    "- Sigurður Baldursson (sigurdur14@ru.is)\n",
    "\n",
    "\n",
    "\n",
    "\n"
   ]
  },
  {
   "cell_type": "markdown",
   "id": "i3plBnMxiOFE",
   "metadata": {
    "collapsed": false,
    "id": "i3plBnMxiOFE",
    "pycharm": {
     "name": "#%% md\n"
    }
   },
   "source": [
    "## Import libraries"
   ]
  },
  {
   "cell_type": "code",
   "execution_count": 1,
   "id": "EjpZ7HO5iOFE",
   "metadata": {
    "id": "EjpZ7HO5iOFE",
    "pycharm": {
     "name": "#%%\n"
    }
   },
   "outputs": [],
   "source": [
    "import pandas as pd\n",
    "import numpy as np\n",
    "import matplotlib.pyplot as plt\n"
   ]
  },
  {
   "cell_type": "markdown",
   "id": "c4J0JcYPiOFF",
   "metadata": {
    "collapsed": false,
    "id": "c4J0JcYPiOFF",
    "pycharm": {
     "name": "#%% md\n"
    }
   },
   "source": [
    "## Read data"
   ]
  },
  {
   "cell_type": "code",
   "execution_count": 2,
   "id": "pXdI4tt2iOFF",
   "metadata": {
    "colab": {
     "base_uri": "https://localhost:8080/"
    },
    "id": "pXdI4tt2iOFF",
    "outputId": "b10de797-4f1f-460c-929b-cecc448f0ff9",
    "pycharm": {
     "name": "#%%\n"
    }
   },
   "outputs": [
    {
     "name": "stdout",
     "output_type": "stream",
     "text": [
      "Downloading creditcardfraud.zip to /content\n",
      " 97% 64.0M/66.0M [00:01<00:00, 42.8MB/s]\n",
      "100% 66.0M/66.0M [00:01<00:00, 37.1MB/s]\n"
     ]
    }
   ],
   "source": [
    "! pip install -q kaggle\n",
    "! mkdir ~/.kaggle\n",
    "! cp kaggle.json ~/.kaggle/\n",
    "! chmod 600 ~/.kaggle/kaggle.json\n",
    "! kaggle datasets download -d mlg-ulb/creditcardfraud\n"
   ]
  },
  {
   "cell_type": "code",
   "execution_count": 4,
   "id": "bMvddx-diOFG",
   "metadata": {
    "colab": {
     "base_uri": "https://localhost:8080/"
    },
    "id": "bMvddx-diOFG",
    "outputId": "8b076a10-3c56-488b-9c67-803669b2a726",
    "pycharm": {
     "name": "#%%\n"
    }
   },
   "outputs": [
    {
     "name": "stdout",
     "output_type": "stream",
     "text": [
      "Archive:  creditcardfraud.zip\n",
      "  inflating: creditcard.csv          \n"
     ]
    }
   ],
   "source": [
    "! unzip creditcardfraud.zip"
   ]
  },
  {
   "cell_type": "markdown",
   "id": "fxAIgF9g_g59",
   "metadata": {
    "id": "fxAIgF9g_g59",
    "pycharm": {
     "name": "#%% md\n"
    }
   },
   "source": []
  },
  {
   "cell_type": "code",
   "execution_count": 2,
   "id": "w-m0xaypiOFG",
   "metadata": {
    "id": "w-m0xaypiOFG",
    "pycharm": {
     "name": "#%%\n"
    }
   },
   "outputs": [],
   "source": [
    "credidcard_fraud_df = pd.read_csv('creditcardfraud/creditcard.csv')\n"
   ]
  },
  {
   "cell_type": "markdown",
   "id": "m7kJv-P9iOFG",
   "metadata": {
    "collapsed": false,
    "id": "m7kJv-P9iOFG",
    "pycharm": {
     "name": "#%% md\n"
    }
   },
   "source": [
    "# General stats about the data\n",
    "\n",
    "* Attributes\n",
    "* df.describe()\n"
   ]
  },
  {
   "cell_type": "markdown",
   "id": "lnCA_PamiOFG",
   "metadata": {
    "collapsed": false,
    "id": "lnCA_PamiOFG",
    "pycharm": {
     "name": "#%% md\n"
    }
   },
   "source": [
    "### Data Cleaning"
   ]
  },
  {
   "cell_type": "code",
   "execution_count": 6,
   "id": "-pxf613miOFH",
   "metadata": {
    "colab": {
     "base_uri": "https://localhost:8080/"
    },
    "id": "-pxf613miOFH",
    "outputId": "3c2c37ff-2b7d-4bbd-ccf4-fea7f0684b0d",
    "pycharm": {
     "name": "#%%\n"
    }
   },
   "outputs": [
    {
     "name": "stdout",
     "output_type": "stream",
     "text": [
      "<class 'pandas.core.frame.DataFrame'>\n",
      "RangeIndex: 284807 entries, 0 to 284806\n",
      "Data columns (total 31 columns):\n",
      " #   Column  Non-Null Count   Dtype  \n",
      "---  ------  --------------   -----  \n",
      " 0   Time    284807 non-null  float64\n",
      " 1   V1      284807 non-null  float64\n",
      " 2   V2      284807 non-null  float64\n",
      " 3   V3      284807 non-null  float64\n",
      " 4   V4      284807 non-null  float64\n",
      " 5   V5      284807 non-null  float64\n",
      " 6   V6      284807 non-null  float64\n",
      " 7   V7      284807 non-null  float64\n",
      " 8   V8      284807 non-null  float64\n",
      " 9   V9      284807 non-null  float64\n",
      " 10  V10     284807 non-null  float64\n",
      " 11  V11     284807 non-null  float64\n",
      " 12  V12     284807 non-null  float64\n",
      " 13  V13     284807 non-null  float64\n",
      " 14  V14     284807 non-null  float64\n",
      " 15  V15     284807 non-null  float64\n",
      " 16  V16     284807 non-null  float64\n",
      " 17  V17     284807 non-null  float64\n",
      " 18  V18     284807 non-null  float64\n",
      " 19  V19     284807 non-null  float64\n",
      " 20  V20     284807 non-null  float64\n",
      " 21  V21     284807 non-null  float64\n",
      " 22  V22     284807 non-null  float64\n",
      " 23  V23     284807 non-null  float64\n",
      " 24  V24     284807 non-null  float64\n",
      " 25  V25     284807 non-null  float64\n",
      " 26  V26     284807 non-null  float64\n",
      " 27  V27     284807 non-null  float64\n",
      " 28  V28     284807 non-null  float64\n",
      " 29  Amount  284807 non-null  float64\n",
      " 30  Class   284807 non-null  int64  \n",
      "dtypes: float64(30), int64(1)\n",
      "memory usage: 67.4 MB\n"
     ]
    }
   ],
   "source": [
    "credidcard_fraud_df.info()"
   ]
  },
  {
   "cell_type": "code",
   "execution_count": 9,
   "id": "39HPzz34jLcL",
   "metadata": {
    "colab": {
     "base_uri": "https://localhost:8080/",
     "height": 394
    },
    "id": "39HPzz34jLcL",
    "outputId": "90c49e48-b8e0-4788-df9b-864a9e9e3d00",
    "pycharm": {
     "name": "#%%\n"
    }
   },
   "outputs": [
    {
     "data": {
      "text/html": [
       "\n",
       "  <div id=\"df-48289ea0-81ed-46d5-9635-ad0e702c6691\">\n",
       "    <div class=\"colab-df-container\">\n",
       "      <div>\n",
       "<style scoped>\n",
       "    .dataframe tbody tr th:only-of-type {\n",
       "        vertical-align: middle;\n",
       "    }\n",
       "\n",
       "    .dataframe tbody tr th {\n",
       "        vertical-align: top;\n",
       "    }\n",
       "\n",
       "    .dataframe thead th {\n",
       "        text-align: right;\n",
       "    }\n",
       "</style>\n",
       "<table border=\"1\" class=\"dataframe\">\n",
       "  <thead>\n",
       "    <tr style=\"text-align: right;\">\n",
       "      <th></th>\n",
       "      <th>Time</th>\n",
       "      <th>V1</th>\n",
       "      <th>V2</th>\n",
       "      <th>V3</th>\n",
       "      <th>V4</th>\n",
       "      <th>V5</th>\n",
       "      <th>V6</th>\n",
       "      <th>V7</th>\n",
       "      <th>V8</th>\n",
       "      <th>V9</th>\n",
       "      <th>...</th>\n",
       "      <th>V21</th>\n",
       "      <th>V22</th>\n",
       "      <th>V23</th>\n",
       "      <th>V24</th>\n",
       "      <th>V25</th>\n",
       "      <th>V26</th>\n",
       "      <th>V27</th>\n",
       "      <th>V28</th>\n",
       "      <th>Amount</th>\n",
       "      <th>Class</th>\n",
       "    </tr>\n",
       "  </thead>\n",
       "  <tbody>\n",
       "    <tr>\n",
       "      <th>count</th>\n",
       "      <td>284807.000000</td>\n",
       "      <td>2.848070e+05</td>\n",
       "      <td>2.848070e+05</td>\n",
       "      <td>2.848070e+05</td>\n",
       "      <td>2.848070e+05</td>\n",
       "      <td>2.848070e+05</td>\n",
       "      <td>2.848070e+05</td>\n",
       "      <td>2.848070e+05</td>\n",
       "      <td>2.848070e+05</td>\n",
       "      <td>2.848070e+05</td>\n",
       "      <td>...</td>\n",
       "      <td>2.848070e+05</td>\n",
       "      <td>2.848070e+05</td>\n",
       "      <td>2.848070e+05</td>\n",
       "      <td>2.848070e+05</td>\n",
       "      <td>2.848070e+05</td>\n",
       "      <td>2.848070e+05</td>\n",
       "      <td>2.848070e+05</td>\n",
       "      <td>2.848070e+05</td>\n",
       "      <td>284807.000000</td>\n",
       "      <td>284807.000000</td>\n",
       "    </tr>\n",
       "    <tr>\n",
       "      <th>mean</th>\n",
       "      <td>94813.859575</td>\n",
       "      <td>1.168375e-15</td>\n",
       "      <td>3.416908e-16</td>\n",
       "      <td>-1.379537e-15</td>\n",
       "      <td>2.074095e-15</td>\n",
       "      <td>9.604066e-16</td>\n",
       "      <td>1.487313e-15</td>\n",
       "      <td>-5.556467e-16</td>\n",
       "      <td>1.213481e-16</td>\n",
       "      <td>-2.406331e-15</td>\n",
       "      <td>...</td>\n",
       "      <td>1.654067e-16</td>\n",
       "      <td>-3.568593e-16</td>\n",
       "      <td>2.578648e-16</td>\n",
       "      <td>4.473266e-15</td>\n",
       "      <td>5.340915e-16</td>\n",
       "      <td>1.683437e-15</td>\n",
       "      <td>-3.660091e-16</td>\n",
       "      <td>-1.227390e-16</td>\n",
       "      <td>88.349619</td>\n",
       "      <td>0.001727</td>\n",
       "    </tr>\n",
       "    <tr>\n",
       "      <th>std</th>\n",
       "      <td>47488.145955</td>\n",
       "      <td>1.958696e+00</td>\n",
       "      <td>1.651309e+00</td>\n",
       "      <td>1.516255e+00</td>\n",
       "      <td>1.415869e+00</td>\n",
       "      <td>1.380247e+00</td>\n",
       "      <td>1.332271e+00</td>\n",
       "      <td>1.237094e+00</td>\n",
       "      <td>1.194353e+00</td>\n",
       "      <td>1.098632e+00</td>\n",
       "      <td>...</td>\n",
       "      <td>7.345240e-01</td>\n",
       "      <td>7.257016e-01</td>\n",
       "      <td>6.244603e-01</td>\n",
       "      <td>6.056471e-01</td>\n",
       "      <td>5.212781e-01</td>\n",
       "      <td>4.822270e-01</td>\n",
       "      <td>4.036325e-01</td>\n",
       "      <td>3.300833e-01</td>\n",
       "      <td>250.120109</td>\n",
       "      <td>0.041527</td>\n",
       "    </tr>\n",
       "    <tr>\n",
       "      <th>min</th>\n",
       "      <td>0.000000</td>\n",
       "      <td>-5.640751e+01</td>\n",
       "      <td>-7.271573e+01</td>\n",
       "      <td>-4.832559e+01</td>\n",
       "      <td>-5.683171e+00</td>\n",
       "      <td>-1.137433e+02</td>\n",
       "      <td>-2.616051e+01</td>\n",
       "      <td>-4.355724e+01</td>\n",
       "      <td>-7.321672e+01</td>\n",
       "      <td>-1.343407e+01</td>\n",
       "      <td>...</td>\n",
       "      <td>-3.483038e+01</td>\n",
       "      <td>-1.093314e+01</td>\n",
       "      <td>-4.480774e+01</td>\n",
       "      <td>-2.836627e+00</td>\n",
       "      <td>-1.029540e+01</td>\n",
       "      <td>-2.604551e+00</td>\n",
       "      <td>-2.256568e+01</td>\n",
       "      <td>-1.543008e+01</td>\n",
       "      <td>0.000000</td>\n",
       "      <td>0.000000</td>\n",
       "    </tr>\n",
       "    <tr>\n",
       "      <th>25%</th>\n",
       "      <td>54201.500000</td>\n",
       "      <td>-9.203734e-01</td>\n",
       "      <td>-5.985499e-01</td>\n",
       "      <td>-8.903648e-01</td>\n",
       "      <td>-8.486401e-01</td>\n",
       "      <td>-6.915971e-01</td>\n",
       "      <td>-7.682956e-01</td>\n",
       "      <td>-5.540759e-01</td>\n",
       "      <td>-2.086297e-01</td>\n",
       "      <td>-6.430976e-01</td>\n",
       "      <td>...</td>\n",
       "      <td>-2.283949e-01</td>\n",
       "      <td>-5.423504e-01</td>\n",
       "      <td>-1.618463e-01</td>\n",
       "      <td>-3.545861e-01</td>\n",
       "      <td>-3.171451e-01</td>\n",
       "      <td>-3.269839e-01</td>\n",
       "      <td>-7.083953e-02</td>\n",
       "      <td>-5.295979e-02</td>\n",
       "      <td>5.600000</td>\n",
       "      <td>0.000000</td>\n",
       "    </tr>\n",
       "    <tr>\n",
       "      <th>50%</th>\n",
       "      <td>84692.000000</td>\n",
       "      <td>1.810880e-02</td>\n",
       "      <td>6.548556e-02</td>\n",
       "      <td>1.798463e-01</td>\n",
       "      <td>-1.984653e-02</td>\n",
       "      <td>-5.433583e-02</td>\n",
       "      <td>-2.741871e-01</td>\n",
       "      <td>4.010308e-02</td>\n",
       "      <td>2.235804e-02</td>\n",
       "      <td>-5.142873e-02</td>\n",
       "      <td>...</td>\n",
       "      <td>-2.945017e-02</td>\n",
       "      <td>6.781943e-03</td>\n",
       "      <td>-1.119293e-02</td>\n",
       "      <td>4.097606e-02</td>\n",
       "      <td>1.659350e-02</td>\n",
       "      <td>-5.213911e-02</td>\n",
       "      <td>1.342146e-03</td>\n",
       "      <td>1.124383e-02</td>\n",
       "      <td>22.000000</td>\n",
       "      <td>0.000000</td>\n",
       "    </tr>\n",
       "    <tr>\n",
       "      <th>75%</th>\n",
       "      <td>139320.500000</td>\n",
       "      <td>1.315642e+00</td>\n",
       "      <td>8.037239e-01</td>\n",
       "      <td>1.027196e+00</td>\n",
       "      <td>7.433413e-01</td>\n",
       "      <td>6.119264e-01</td>\n",
       "      <td>3.985649e-01</td>\n",
       "      <td>5.704361e-01</td>\n",
       "      <td>3.273459e-01</td>\n",
       "      <td>5.971390e-01</td>\n",
       "      <td>...</td>\n",
       "      <td>1.863772e-01</td>\n",
       "      <td>5.285536e-01</td>\n",
       "      <td>1.476421e-01</td>\n",
       "      <td>4.395266e-01</td>\n",
       "      <td>3.507156e-01</td>\n",
       "      <td>2.409522e-01</td>\n",
       "      <td>9.104512e-02</td>\n",
       "      <td>7.827995e-02</td>\n",
       "      <td>77.165000</td>\n",
       "      <td>0.000000</td>\n",
       "    </tr>\n",
       "    <tr>\n",
       "      <th>max</th>\n",
       "      <td>172792.000000</td>\n",
       "      <td>2.454930e+00</td>\n",
       "      <td>2.205773e+01</td>\n",
       "      <td>9.382558e+00</td>\n",
       "      <td>1.687534e+01</td>\n",
       "      <td>3.480167e+01</td>\n",
       "      <td>7.330163e+01</td>\n",
       "      <td>1.205895e+02</td>\n",
       "      <td>2.000721e+01</td>\n",
       "      <td>1.559499e+01</td>\n",
       "      <td>...</td>\n",
       "      <td>2.720284e+01</td>\n",
       "      <td>1.050309e+01</td>\n",
       "      <td>2.252841e+01</td>\n",
       "      <td>4.584549e+00</td>\n",
       "      <td>7.519589e+00</td>\n",
       "      <td>3.517346e+00</td>\n",
       "      <td>3.161220e+01</td>\n",
       "      <td>3.384781e+01</td>\n",
       "      <td>25691.160000</td>\n",
       "      <td>1.000000</td>\n",
       "    </tr>\n",
       "  </tbody>\n",
       "</table>\n",
       "<p>8 rows × 31 columns</p>\n",
       "</div>\n",
       "      <button class=\"colab-df-convert\" onclick=\"convertToInteractive('df-48289ea0-81ed-46d5-9635-ad0e702c6691')\"\n",
       "              title=\"Convert this dataframe to an interactive table.\"\n",
       "              style=\"display:none;\">\n",
       "        \n",
       "  <svg xmlns=\"http://www.w3.org/2000/svg\" height=\"24px\"viewBox=\"0 0 24 24\"\n",
       "       width=\"24px\">\n",
       "    <path d=\"M0 0h24v24H0V0z\" fill=\"none\"/>\n",
       "    <path d=\"M18.56 5.44l.94 2.06.94-2.06 2.06-.94-2.06-.94-.94-2.06-.94 2.06-2.06.94zm-11 1L8.5 8.5l.94-2.06 2.06-.94-2.06-.94L8.5 2.5l-.94 2.06-2.06.94zm10 10l.94 2.06.94-2.06 2.06-.94-2.06-.94-.94-2.06-.94 2.06-2.06.94z\"/><path d=\"M17.41 7.96l-1.37-1.37c-.4-.4-.92-.59-1.43-.59-.52 0-1.04.2-1.43.59L10.3 9.45l-7.72 7.72c-.78.78-.78 2.05 0 2.83L4 21.41c.39.39.9.59 1.41.59.51 0 1.02-.2 1.41-.59l7.78-7.78 2.81-2.81c.8-.78.8-2.07 0-2.86zM5.41 20L4 18.59l7.72-7.72 1.47 1.35L5.41 20z\"/>\n",
       "  </svg>\n",
       "      </button>\n",
       "      \n",
       "  <style>\n",
       "    .colab-df-container {\n",
       "      display:flex;\n",
       "      flex-wrap:wrap;\n",
       "      gap: 12px;\n",
       "    }\n",
       "\n",
       "    .colab-df-convert {\n",
       "      background-color: #E8F0FE;\n",
       "      border: none;\n",
       "      border-radius: 50%;\n",
       "      cursor: pointer;\n",
       "      display: none;\n",
       "      fill: #1967D2;\n",
       "      height: 32px;\n",
       "      padding: 0 0 0 0;\n",
       "      width: 32px;\n",
       "    }\n",
       "\n",
       "    .colab-df-convert:hover {\n",
       "      background-color: #E2EBFA;\n",
       "      box-shadow: 0px 1px 2px rgba(60, 64, 67, 0.3), 0px 1px 3px 1px rgba(60, 64, 67, 0.15);\n",
       "      fill: #174EA6;\n",
       "    }\n",
       "\n",
       "    [theme=dark] .colab-df-convert {\n",
       "      background-color: #3B4455;\n",
       "      fill: #D2E3FC;\n",
       "    }\n",
       "\n",
       "    [theme=dark] .colab-df-convert:hover {\n",
       "      background-color: #434B5C;\n",
       "      box-shadow: 0px 1px 3px 1px rgba(0, 0, 0, 0.15);\n",
       "      filter: drop-shadow(0px 1px 2px rgba(0, 0, 0, 0.3));\n",
       "      fill: #FFFFFF;\n",
       "    }\n",
       "  </style>\n",
       "\n",
       "      <script>\n",
       "        const buttonEl =\n",
       "          document.querySelector('#df-48289ea0-81ed-46d5-9635-ad0e702c6691 button.colab-df-convert');\n",
       "        buttonEl.style.display =\n",
       "          google.colab.kernel.accessAllowed ? 'block' : 'none';\n",
       "\n",
       "        async function convertToInteractive(key) {\n",
       "          const element = document.querySelector('#df-48289ea0-81ed-46d5-9635-ad0e702c6691');\n",
       "          const dataTable =\n",
       "            await google.colab.kernel.invokeFunction('convertToInteractive',\n",
       "                                                     [key], {});\n",
       "          if (!dataTable) return;\n",
       "\n",
       "          const docLinkHtml = 'Like what you see? Visit the ' +\n",
       "            '<a target=\"_blank\" href=https://colab.research.google.com/notebooks/data_table.ipynb>data table notebook</a>'\n",
       "            + ' to learn more about interactive tables.';\n",
       "          element.innerHTML = '';\n",
       "          dataTable['output_type'] = 'display_data';\n",
       "          await google.colab.output.renderOutput(dataTable, element);\n",
       "          const docLink = document.createElement('div');\n",
       "          docLink.innerHTML = docLinkHtml;\n",
       "          element.appendChild(docLink);\n",
       "        }\n",
       "      </script>\n",
       "    </div>\n",
       "  </div>\n",
       "  "
      ],
      "text/plain": [
       "                Time            V1            V2            V3            V4  \\\n",
       "count  284807.000000  2.848070e+05  2.848070e+05  2.848070e+05  2.848070e+05   \n",
       "mean    94813.859575  1.168375e-15  3.416908e-16 -1.379537e-15  2.074095e-15   \n",
       "std     47488.145955  1.958696e+00  1.651309e+00  1.516255e+00  1.415869e+00   \n",
       "min         0.000000 -5.640751e+01 -7.271573e+01 -4.832559e+01 -5.683171e+00   \n",
       "25%     54201.500000 -9.203734e-01 -5.985499e-01 -8.903648e-01 -8.486401e-01   \n",
       "50%     84692.000000  1.810880e-02  6.548556e-02  1.798463e-01 -1.984653e-02   \n",
       "75%    139320.500000  1.315642e+00  8.037239e-01  1.027196e+00  7.433413e-01   \n",
       "max    172792.000000  2.454930e+00  2.205773e+01  9.382558e+00  1.687534e+01   \n",
       "\n",
       "                 V5            V6            V7            V8            V9  \\\n",
       "count  2.848070e+05  2.848070e+05  2.848070e+05  2.848070e+05  2.848070e+05   \n",
       "mean   9.604066e-16  1.487313e-15 -5.556467e-16  1.213481e-16 -2.406331e-15   \n",
       "std    1.380247e+00  1.332271e+00  1.237094e+00  1.194353e+00  1.098632e+00   \n",
       "min   -1.137433e+02 -2.616051e+01 -4.355724e+01 -7.321672e+01 -1.343407e+01   \n",
       "25%   -6.915971e-01 -7.682956e-01 -5.540759e-01 -2.086297e-01 -6.430976e-01   \n",
       "50%   -5.433583e-02 -2.741871e-01  4.010308e-02  2.235804e-02 -5.142873e-02   \n",
       "75%    6.119264e-01  3.985649e-01  5.704361e-01  3.273459e-01  5.971390e-01   \n",
       "max    3.480167e+01  7.330163e+01  1.205895e+02  2.000721e+01  1.559499e+01   \n",
       "\n",
       "       ...           V21           V22           V23           V24  \\\n",
       "count  ...  2.848070e+05  2.848070e+05  2.848070e+05  2.848070e+05   \n",
       "mean   ...  1.654067e-16 -3.568593e-16  2.578648e-16  4.473266e-15   \n",
       "std    ...  7.345240e-01  7.257016e-01  6.244603e-01  6.056471e-01   \n",
       "min    ... -3.483038e+01 -1.093314e+01 -4.480774e+01 -2.836627e+00   \n",
       "25%    ... -2.283949e-01 -5.423504e-01 -1.618463e-01 -3.545861e-01   \n",
       "50%    ... -2.945017e-02  6.781943e-03 -1.119293e-02  4.097606e-02   \n",
       "75%    ...  1.863772e-01  5.285536e-01  1.476421e-01  4.395266e-01   \n",
       "max    ...  2.720284e+01  1.050309e+01  2.252841e+01  4.584549e+00   \n",
       "\n",
       "                V25           V26           V27           V28         Amount  \\\n",
       "count  2.848070e+05  2.848070e+05  2.848070e+05  2.848070e+05  284807.000000   \n",
       "mean   5.340915e-16  1.683437e-15 -3.660091e-16 -1.227390e-16      88.349619   \n",
       "std    5.212781e-01  4.822270e-01  4.036325e-01  3.300833e-01     250.120109   \n",
       "min   -1.029540e+01 -2.604551e+00 -2.256568e+01 -1.543008e+01       0.000000   \n",
       "25%   -3.171451e-01 -3.269839e-01 -7.083953e-02 -5.295979e-02       5.600000   \n",
       "50%    1.659350e-02 -5.213911e-02  1.342146e-03  1.124383e-02      22.000000   \n",
       "75%    3.507156e-01  2.409522e-01  9.104512e-02  7.827995e-02      77.165000   \n",
       "max    7.519589e+00  3.517346e+00  3.161220e+01  3.384781e+01   25691.160000   \n",
       "\n",
       "               Class  \n",
       "count  284807.000000  \n",
       "mean        0.001727  \n",
       "std         0.041527  \n",
       "min         0.000000  \n",
       "25%         0.000000  \n",
       "50%         0.000000  \n",
       "75%         0.000000  \n",
       "max         1.000000  \n",
       "\n",
       "[8 rows x 31 columns]"
      ]
     },
     "execution_count": 9,
     "metadata": {},
     "output_type": "execute_result"
    }
   ],
   "source": [
    "credidcard_fraud_df.describe(include=np.number)\n"
   ]
  },
  {
   "cell_type": "code",
   "execution_count": null,
   "id": "7szLCUtMiOFH",
   "metadata": {
    "id": "7szLCUtMiOFH",
    "pycharm": {
     "name": "#%%\n"
    }
   },
   "outputs": [],
   "source": [
    "# cheack for dublicates\n",
    "\n",
    "credidcard_fraud_df.drop_duplicates()\n",
    "credidcard_fraud_df.info()\n",
    "\n",
    "# No duplicates"
   ]
  },
  {
   "cell_type": "markdown",
   "id": "LH933UodiOFH",
   "metadata": {
    "collapsed": false,
    "id": "LH933UodiOFH",
    "pycharm": {
     "name": "#%% md\n"
    }
   },
   "source": [
    "### Find what distribution each Feature follows"
   ]
  },
  {
   "cell_type": "code",
   "execution_count": null,
   "id": "Jbbvuxy3iOFI",
   "metadata": {
    "id": "Jbbvuxy3iOFI",
    "pycharm": {
     "name": "#%%\n"
    }
   },
   "outputs": [],
   "source": [
    "! python -m pip install scipy"
   ]
  },
  {
   "cell_type": "code",
   "execution_count": null,
   "id": "9vYwCk9FiOFI",
   "metadata": {
    "id": "9vYwCk9FiOFI",
    "pycharm": {
     "name": "#%%\n"
    }
   },
   "outputs": [],
   "source": [
    "from scipy import stats\n",
    "\n",
    "# Stolen Code :o Then modified\n",
    "\n",
    "list_of_dists = ['alpha','anglit','arcsine','beta','betaprime','bradford',\n",
    "                 'burr','burr12','cauchy','chi','chi2','cosine','dgamma',\n",
    "                 'dweibull','erlang','expon','exponnorm','exponweib','exponpow',\n",
    "                 'f','fatiguelife','fisk','foldcauchy','foldnorm','genlogistic',\n",
    "                 'genpareto','gennorm','genexpon','genextreme','gausshyper',\n",
    "                 'gamma','gengamma','genhalflogistic','gilbrat','gompertz',\n",
    "                 'gumbel_r','gumbel_l','halfcauchy','halflogistic','halfnorm',\n",
    "                 'halfgennorm','hypsecant','invgamma','invgauss','invweibull',\n",
    "                 'johnsonsb','johnsonsu','kstwobign','laplace','levy','levy_l',\n",
    "                 'logistic','loggamma','loglaplace','lognorm','lomax','maxwell',\n",
    "                 'mielke','nakagami','ncx2','ncf','nct','norm','pareto',\n",
    "                 'pearson3','powerlaw','powerlognorm','powernorm','rdist',\n",
    "                 'reciprocal','rayleigh','rice','recipinvgauss','semicircular',\n",
    "                 't','triang','truncexpon','truncnorm','tukeylambda','uniform',\n",
    "                 'vonmises','vonmises_line','wald','weibull_min','weibull_max']\n",
    "\n",
    "\n",
    "def find_a_fitting_dist(data):\n",
    "    '''Finds a fitting distribution for data'''\n",
    "    results = list()\n",
    "    for i in list_of_dists:\n",
    "        dist = getattr(stats, i)\n",
    "        param = dist.fit(data)\n",
    "        a = stats.kstest(data, i, args=param)\n",
    "        results.append((i,a[0],a[1]))\n",
    "  \n",
    "    results.sort(key=lambda x:float(x[2]), reverse=True)\n",
    "\n",
    "    # return (<name of dist>, args*)\n",
    "    return results[0][0], getattr(stats, results[0][0]).fit(data)\n",
    "\n",
    "\n",
    "def plot_data_w_dist(data, dist, title = \"Title\", n_bins=40):\n",
    "    plt.title(title, fontsize=22, fontweight=\"bold\")\n",
    "    x= np.linspace(min(data), max(data))\n",
    "    plt.hist(data, bins = n_bins, density=True)\n",
    "    eval('plt.plot(x, stats.{}.pdf(x, {}))'.format(str(dist[0]), \n",
    "        ', '.join(list([str(x) for x in dist[1]]))))\n",
    "\n"
   ]
  },
  {
   "cell_type": "code",
   "execution_count": null,
   "id": "se1tFE1-iOFJ",
   "metadata": {
    "id": "se1tFE1-iOFJ",
    "pycharm": {
     "name": "#%%\n"
    }
   },
   "outputs": [],
   "source": [
    "import warnings\n",
    "# ignore warnings\n",
    "warnings.filterwarnings('ignore')\n",
    "# TODO: Remove ? or disable\n",
    "\n",
    "# For each feature plot the data with the fitting curve\n",
    "\n",
    "for i , f_id in enumerate(credidcard_fraud_df.columns ):\n",
    "    if i>1: pass\n",
    "    # ToDo add p-value to title\n",
    "    plot_data_w_dist(credidcard_fraud_df[f_id], find_a_fitting_dist(credidcard_fraud_df[f_id]), f_id, n_bins=100)\n"
   ]
  },
  {
   "cell_type": "code",
   "execution_count": null,
   "outputs": [],
   "source": [
    "# plot distribution of all features\n",
    "\n",
    "fig, axs = plt.subplots(16, 4, figsize=(20, 20))\n",
    "fig.tight_layout()\n",
    "for i , f_id in enumerate(credidcard_fraud_df.columns ):\n",
    "    # axs[(2*i)//4][(2*i)%4].hist(credidcard_fraud_df[f_id], bins=50)\n",
    "    # axs[i//4][i%4].set_title(f_id)\n",
    "\n",
    "    axs[(2*i)//4][(2*i)%4].hist(credidcard_fraud_df[credidcard_fraud_df['Class']==0][f_id].values , color = '#00ff00', bins=50)\n",
    "    axs[(2*i)//4][(2*i)%4].set_title(f_id+' - Not Fraud')\n",
    "\n",
    "\n",
    "    axs[(2*i+1)//4][(2*i+1)%4].hist(credidcard_fraud_df[credidcard_fraud_df['Class']==1][f_id].values , color = '#ff0000', bins=15)\n",
    "    axs[(2*i+1)//4][(2*i+1)%4].set_title(f_id+' - Fraud')\n"
   ],
   "metadata": {
    "collapsed": false,
    "pycharm": {
     "name": "#%%\n"
    }
   }
  },
  {
   "cell_type": "markdown",
   "source": [
    "### Check for correlation between PCA features"
   ],
   "metadata": {
    "collapsed": false,
    "pycharm": {
     "name": "#%% md\n"
    }
   }
  },
  {
   "cell_type": "code",
   "execution_count": null,
   "outputs": [],
   "source": [
    "from itertools import combinations\n",
    "\n",
    "# Plot combination of two features\n",
    "\n",
    "columns = pd.Series(credidcard_fraud_df.columns)\n",
    "v_columns = columns[columns.str.startswith('V')]\n",
    "\n",
    "correlation_res = []\n",
    "\n",
    "for col_i, col_j in combinations(v_columns, 2):\n",
    "    correlation_res.append((col_i, col_j, credidcard_fraud_df[col_i].corr(credidcard_fraud_df[col_j])))\n",
    "\n",
    "    no_fraud = credidcard_fraud_df[credidcard_fraud_df['Class'] == 0]\n",
    "    plt.subplot(1, 2, 1)\n",
    "    plt.title('Not fraud')\n",
    "    plt.xlabel(col_i)\n",
    "    plt.ylabel(col_j)\n",
    "    plt.scatter(x=no_fraud[col_i], y=no_fraud[col_j], s=1.0, c=no_fraud['Class'].map(lambda _: \"#00ff00\"))\n",
    "\n",
    "    with_fraud = credidcard_fraud_df[credidcard_fraud_df['Class'] == 1]\n",
    "    plt.subplot(1, 2, 2)\n",
    "    plt.title('Fraud')\n",
    "    plt.xlabel(col_i)\n",
    "    plt.ylabel(col_j)\n",
    "    plt.scatter(x=with_fraud[col_i], y=with_fraud[col_j], s=1.0, c=with_fraud['Class'].map(lambda _: \"#ff0000\"))\n",
    "    plt.savefig(f\".\\\\Vi_vj_plots\\\\{col_i}_{col_j}.png\")\n",
    "    plt.clf()\n",
    "\n",
    "correlation_res.sort(key=lambda x: x[2], reverse=True)\n",
    "print('\\n'.join(map(lambda x: f'{x[0]}:{x[1]} - {x[2]}', correlation_res)))"
   ],
   "metadata": {
    "collapsed": false,
    "pycharm": {
     "name": "#%%\n"
    }
   }
  },
  {
   "cell_type": "markdown",
   "source": [
    "# Feature Engenering\n"
   ],
   "metadata": {
    "collapsed": false,
    "pycharm": {
     "name": "#%% md\n"
    }
   }
  },
  {
   "cell_type": "code",
   "execution_count": null,
   "outputs": [],
   "source": [
    "# Create a new feild called \n",
    "credidcard_fraud_df[\"Time-Hour\"]=credidcard_fraud_df[\"Time\"]//60//60%24\n",
    "\n",
    "# Plot dist of transactions based on hour\n",
    "fig , axs = plt.subplots(1,2 , figsize = (8,8))\n",
    "\n",
    "axs[0].hist(credidcard_fraud_df[credidcard_fraud_df['Class']==0]['Time-Hour'].values , color = '#00ff00', bins=24)\n",
    "axs[0].set_title('Not Fraud')\n",
    "axs[0].set_xlabel('time of day')\n",
    "\n",
    "axs[1].hist(credidcard_fraud_df[credidcard_fraud_df['Class']==1]['Time-Hour'].values , color = '#ff0000', bins=24)\n",
    "axs[1].set_title('Fraud')\n",
    "axs[1].set_xlabel('time of day')\n"
   ],
   "metadata": {
    "collapsed": false,
    "pycharm": {
     "name": "#%%\n"
    }
   }
  },
  {
   "cell_type": "markdown",
   "source": [
    "## Visulasation"
   ],
   "metadata": {
    "collapsed": false,
    "pycharm": {
     "name": "#%% md\n"
    }
   }
  },
  {
   "cell_type": "code",
   "execution_count": null,
   "outputs": [],
   "source": [
    "# Cheack how corrilated the features are with amount\n",
    "\n",
    "credidcard_fraud_df.corrwith(credidcard_fraud_df['Amount'])"
   ],
   "metadata": {
    "collapsed": false,
    "pycharm": {
     "name": "#%%\n"
    }
   }
  },
  {
   "cell_type": "code",
   "execution_count": null,
   "outputs": [],
   "source": [
    "pd.plotting.scatter_matrix(credidcard_fraud_df)"
   ],
   "metadata": {
    "collapsed": false,
    "pycharm": {
     "name": "#%%\n"
    }
   }
  },
  {
   "cell_type": "code",
   "execution_count": null,
   "outputs": [],
   "source": [
    "x = credidcard_fraud_df #[credidcard_fraud_df['Class']==0]\n",
    "cmap = plt.get_cmap('jet')\n",
    "\n",
    "plt.figure(figsize=(12,8), dpi= 100, facecolor='w', edgecolor='k')\n",
    "plt.xlabel(\"Time-Hour\")\n",
    "plt.ylabel(\"Amount\")\n",
    "plt.scatter(x = x['Time-Hour'], y = x['Amount'], c=x['Class'], alpha=0.5, cmap = cmap)\n",
    "\n",
    "plt.show()"
   ],
   "metadata": {
    "collapsed": false,
    "pycharm": {
     "name": "#%%\n"
    }
   }
  },
  {
   "cell_type": "code",
   "execution_count": null,
   "outputs": [],
   "source": [
    "x = credidcard_fraud_df[credidcard_fraud_df['Class']==1]\n",
    "cmap = plt.get_cmap('jet')\n",
    "\n",
    "plt.figure(figsize=(12,8), dpi= 100, facecolor='w', edgecolor='k')\n",
    "plt.xlabel(\"Time-Hour\")\n",
    "plt.ylabel(\"Amount\")\n",
    "plt.scatter(x = x['Time-Hour'], y = x['Amount'], c=x['Class'], alpha=0.5, cmap = cmap)\n",
    "\n",
    "plt.show()"
   ],
   "metadata": {
    "collapsed": false,
    "pycharm": {
     "name": "#%%\n"
    }
   }
  },
  {
   "cell_type": "code",
   "execution_count": null,
   "outputs": [],
   "source": [
    "# more visulasation\n",
    "from mpl_toolkits import mplot3d\n",
    "fig = plt.figure()\n",
    "ax = plt.axes(projection='3d')\n",
    "plot_df = X2D\n",
    "ax.scatter(\n",
    "    credidcard_fraud_df['Amount'], \n",
    "    credidcard_fraud_df['Time-Hour'], \n",
    "    credidcard_fraud_df['Class'],\n",
    "    cmap='jet',\n",
    "    c=credidcard_fraud_df['Class'], alpha=0.5\n",
    ")\n",
    "ax.set_xlabel('Amount')\n",
    "ax.set_ylabel('Time-Hour')\n",
    "ax.set_zlabel('Fraud')"
   ],
   "metadata": {
    "collapsed": false,
    "pycharm": {
     "name": "#%%\n"
    }
   }
  },
  {
   "cell_type": "code",
   "execution_count": null,
   "outputs": [],
   "source": [
    "from sklearn.manifold import TSNE\n",
    "\n",
    "columns = pd.Series(credidcard_fraud_df.columns)\n",
    "columns = columns[(columns != 'Time') & (columns != 'Class')]\n",
    "\n",
    "tsne = TSNE(n_components=2, n_jobs=-1)\n",
    "embedded_credit_card_pca = tsne.fit_transform(credidcard_fraud_df[columns])\n",
    "fig = plt.figure()\n",
    "ax = plt.axes(projection='3d')\n",
    "ax.scatter(embedded_credit_card_pca[:, 0], embedded_credit_card_pca[:, 1], credidcard_fraud_df['Class'], cmap='jet',\n",
    "           c=credidcard_fraud_df['Class'], alpha=0.5)\n",
    "ax.set_zlabel('Fraud')"
   ],
   "metadata": {
    "collapsed": false,
    "pycharm": {
     "name": "#%%\n"
    }
   }
  },
  {
   "cell_type": "code",
   "execution_count": null,
   "metadata": {
    "collapsed": false,
    "pycharm": {
     "name": "#%%\n"
    }
   },
   "outputs": [],
   "source": [
    "from sklearn.decomposition import PCA\n",
    "\n",
    "encoded_features_df = credidcard_fraud_df[['V1', 'V2', 'V3', 'V4', 'V5', 'V6', \n",
    "      'V7', 'V8', 'V9', 'V10', 'V11', 'V12', 'V13', 'V14', 'V15', 'V16', 'V17', \n",
    "      'V18', 'V18', 'V20', 'V21', 'V22', 'V23', 'V24', 'V25', 'V26', 'V27', \n",
    "      'V28']]\n",
    "\n",
    "pca = PCA(n_components=2)\n",
    "pca.fit(encoded_features_df )\n",
    "X2D = pca.transform(encoded_features_df )\n",
    "\n"
   ]
  },
  {
   "cell_type": "code",
   "execution_count": null,
   "metadata": {
    "collapsed": false,
    "pycharm": {
     "name": "#%%\n"
    }
   },
   "outputs": [],
   "source": [
    "# now plot\n",
    "x = X2D[:, 0]\n",
    "y = X2D[:, 1]\n",
    "\n",
    "plt.figure(figsize=(8, 6), dpi=80)\n",
    "plt.scatter(x=x, y=y)"
   ]
  },
  {
   "cell_type": "code",
   "execution_count": null,
   "metadata": {
    "collapsed": false,
    "pycharm": {
     "name": "#%%\n"
    }
   },
   "outputs": [],
   "source": [
    "# Now with the other features\n",
    "encoded_features_df = credidcard_fraud_df[['V1', 'V2', 'V3', 'V4', 'V5', 'V6', \n",
    "      'V7', 'V8', 'V9', 'V10', 'V11', 'V12', 'V13', 'V14', 'V15', 'V16', 'V17', \n",
    "      'V18', 'V18', 'V20', 'V21', 'V22', 'V23', 'V24', 'V25', 'V26', 'V27', \n",
    "      'V28', 'Time-Hour', 'Amount']]\n",
    "\n",
    "pca = PCA(n_components=2)\n",
    "pca.fit(encoded_features_df )\n",
    "X2D = pca.transform(encoded_features_df )\n",
    "\n",
    "# and plot\n",
    "x = X2D[:, 0]\n",
    "y = X2D[:, 1]\n",
    "\n",
    "plt.figure(figsize=(8, 6), dpi=80)\n",
    "plt.scatter(x=x, y=y, c=credidcard_fraud_df['Class'], alpha = 0.5)"
   ]
  },
  {
   "cell_type": "code",
   "execution_count": null,
   "metadata": {
    "collapsed": false,
    "pycharm": {
     "name": "#%%\n"
    }
   },
   "outputs": [],
   "source": [
    "# Looks good lets try 3 dim\n",
    "# Now with the other features\n",
    "encoded_features_df = credidcard_fraud_df[['V1', 'V2', 'V3', 'V4', 'V5', 'V6', \n",
    "      'V7', 'V8', 'V9', 'V10', 'V11', 'V12', 'V13', 'V14', 'V15', 'V16', 'V17', \n",
    "      'V18', 'V18', 'V20', 'V21', 'V22', 'V23', 'V24', 'V25', 'V26', 'V27', \n",
    "      'V28', 'Time-Hour', 'Amount']]\n",
    "\n",
    "pca = PCA(n_components=3)\n",
    "pca.fit(encoded_features_df )\n",
    "X3D = pca.transform(encoded_features_df )\n",
    "\n",
    "# and plot\n",
    "x = X3D[:, 0]\n",
    "y = X3D[:, 1]\n",
    "c = X3D[:, 2]\n",
    "\n",
    "plt.figure(figsize=(8, 6), dpi=80)\n",
    "plt.scatter(x=x, y=y, c=c)"
   ]
  },
  {
   "cell_type": "code",
   "execution_count": null,
   "metadata": {
    "collapsed": false,
    "pycharm": {
     "name": "#%%\n"
    }
   },
   "outputs": [],
   "source": [
    "# more visulasation\n",
    "from mpl_toolkits import mplot3d\n",
    "fig = plt.figure()\n",
    "ax = plt.axes(projection='3d')\n",
    "plot_df = X2D\n",
    "ax.scatter(\n",
    "    plot_df[:,0], \n",
    "    plot_df[:,1], \n",
    "    credidcard_fraud_df['Class'],\n",
    "    cmap='jet',\n",
    "    c=credidcard_fraud_df['Class'], alpha=0.5\n",
    ")\n",
    "ax.set_xlabel('V29')\n",
    "ax.set_ylabel('V30')\n",
    "ax.set_zlabel('Fraud')"
   ]
  },
  {
   "cell_type": "markdown",
   "id": "tsouqIxb_LjN",
   "metadata": {
    "id": "tsouqIxb_LjN",
    "pycharm": {
     "name": "#%% md\n"
    }
   },
   "source": [
    "# Reduce Dimensionality"
   ]
  },
  {
   "cell_type": "code",
   "execution_count": 18,
   "id": "41f71c94",
   "metadata": {
    "id": "41f71c94",
    "pycharm": {
     "name": "#%%\n"
    }
   },
   "outputs": [],
   "source": [
    "from sklearn.decomposition import PCA\n",
    "\n",
    "encoded_features_df = credidcard_fraud_df[['V1', 'V2', 'V3', 'V4', 'V5', 'V6', \n",
    "      'V7', 'V8', 'V9', 'V10', 'V11', 'V12', 'V13', 'V14', 'V15', 'V16', 'V17', \n",
    "      'V18', 'V18', 'V20', 'V21', 'V22', 'V23', 'V24', 'V25', 'V26', 'V27', \n",
    "      'V28']]\n",
    "\n",
    "pca = PCA(n_components=2)\n",
    "pca.fit(encoded_features_df )\n",
    "X2D = pca.transform(encoded_features_df )\n",
    "\n"
   ]
  },
  {
   "cell_type": "code",
   "execution_count": 19,
   "id": "3GOfwms3DbXS",
   "metadata": {
    "colab": {
     "base_uri": "https://localhost:8080/",
     "height": 430
    },
    "id": "3GOfwms3DbXS",
    "outputId": "a9282a53-02ce-4d28-cab0-83b1d9b75ba1",
    "pycharm": {
     "name": "#%%\n"
    }
   },
   "outputs": [
    {
     "data": {
      "text/plain": [
       "<matplotlib.collections.PathCollection at 0x7fdb2d6fe400>"
      ]
     },
     "execution_count": 19,
     "metadata": {},
     "output_type": "execute_result"
    },
    {
     "data": {
      "image/png": "[encoded data removed]",
      "text/plain": [
       "<Figure size 640x480 with 1 Axes>"
      ]
     },
     "metadata": {
      "needs_background": "light"
     },
     "output_type": "display_data"
    }
   ],
   "source": [
    "# now plot\n",
    "x = X2D[:, 0]\n",
    "y = X2D[:, 1]\n",
    "\n",
    "plt.figure(figsize=(8, 6), dpi=80)\n",
    "plt.scatter(x=x, y=y)"
   ]
  },
  {
   "cell_type": "code",
   "execution_count": 24,
   "id": "CRk8dt0OD4Tb",
   "metadata": {
    "colab": {
     "base_uri": "https://localhost:8080/",
     "height": 430
    },
    "id": "CRk8dt0OD4Tb",
    "outputId": "7c0f80de-03c5-424d-9097-466ae59a06e5",
    "pycharm": {
     "name": "#%%\n"
    }
   },
   "outputs": [
    {
     "data": {
      "text/plain": [
       "<matplotlib.collections.PathCollection at 0x7fdb2d4db2b0>"
      ]
     },
     "execution_count": 24,
     "metadata": {},
     "output_type": "execute_result"
    },
    {
     "data": {
      "image/png": "[encoded data removed]",
      "text/plain": [
       "<Figure size 640x480 with 1 Axes>"
      ]
     },
     "metadata": {
      "needs_background": "light"
     },
     "output_type": "display_data"
    }
   ],
   "source": [
    "# Now with the other features\n",
    "encoded_features_df = credidcard_fraud_df[['V1', 'V2', 'V3', 'V4', 'V5', 'V6', \n",
    "      'V7', 'V8', 'V9', 'V10', 'V11', 'V12', 'V13', 'V14', 'V15', 'V16', 'V17', \n",
    "      'V18', 'V18', 'V20', 'V21', 'V22', 'V23', 'V24', 'V25', 'V26', 'V27', \n",
    "      'V28', 'Time-Hour', 'Amount']]\n",
    "\n",
    "pca = PCA(n_components=2)\n",
    "pca.fit(encoded_features_df )\n",
    "X2D = pca.transform(encoded_features_df )\n",
    "\n",
    "# and plot\n",
    "x = X2D[:, 0]\n",
    "y = X2D[:, 1]\n",
    "\n",
    "plt.figure(figsize=(8, 6), dpi=80)\n",
    "plt.scatter(x=x, y=y, c=credidcard_fraud_df['Class'], alpha = 0.5)"
   ]
  },
  {
   "cell_type": "code",
   "execution_count": 21,
   "id": "l4yPpVrxEls1",
   "metadata": {
    "colab": {
     "base_uri": "https://localhost:8080/",
     "height": 430
    },
    "id": "l4yPpVrxEls1",
    "outputId": "0ccba6b0-fa8d-4dda-ec11-e9e2496d6739",
    "pycharm": {
     "name": "#%%\n"
    }
   },
   "outputs": [
    {
     "data": {
      "text/plain": [
       "<matplotlib.collections.PathCollection at 0x7fdb2d641b20>"
      ]
     },
     "execution_count": 21,
     "metadata": {},
     "output_type": "execute_result"
    },
    {
     "data": {
      "image/png": "[encoded data removed]",
      "text/plain": [
       "<Figure size 640x480 with 1 Axes>"
      ]
     },
     "metadata": {
      "needs_background": "light"
     },
     "output_type": "display_data"
    }
   ],
   "source": [
    "# Looks good lets try 3 dim\n",
    "# Now with the other features\n",
    "encoded_features_df = credidcard_fraud_df[['V1', 'V2', 'V3', 'V4', 'V5', 'V6', \n",
    "      'V7', 'V8', 'V9', 'V10', 'V11', 'V12', 'V13', 'V14', 'V15', 'V16', 'V17', \n",
    "      'V18', 'V18', 'V20', 'V21', 'V22', 'V23', 'V24', 'V25', 'V26', 'V27', \n",
    "      'V28', 'Time-Hour', 'Amount']]\n",
    "\n",
    "pca = PCA(n_components=3)\n",
    "pca.fit(encoded_features_df )\n",
    "X3D = pca.transform(encoded_features_df )\n",
    "\n",
    "# and plot\n",
    "x = X3D[:, 0]\n",
    "y = X3D[:, 1]\n",
    "c = X3D[:, 2]\n",
    "\n",
    "plt.figure(figsize=(8, 6), dpi=80)\n",
    "plt.scatter(x=x, y=y, c=c)"
   ]
  },
  {
   "cell_type": "code",
   "execution_count": 26,
   "id": "uOVGFxE2Lu7-",
   "metadata": {
    "colab": {
     "base_uri": "https://localhost:8080/",
     "height": 275
    },
    "id": "uOVGFxE2Lu7-",
    "outputId": "e3121fa3-0874-435b-aefb-abc4d22dc1ea",
    "pycharm": {
     "name": "#%%\n"
    }
   },
   "outputs": [
    {
     "data": {
      "text/plain": [
       "Text(0.5, 0, 'Fraud')"
      ]
     },
     "execution_count": 26,
     "metadata": {},
     "output_type": "execute_result"
    },
    {
     "data": {
      "image/png": "[encoded data removed]",
      "text/plain": [
       "<Figure size 432x288 with 1 Axes>"
      ]
     },
     "metadata": {
      "needs_background": "light"
     },
     "output_type": "display_data"
    }
   ],
   "source": [
    "# more visulasation\n",
    "from mpl_toolkits import mplot3d\n",
    "fig = plt.figure()\n",
    "ax = plt.axes(projection='3d')\n",
    "plot_df = X2D\n",
    "ax.scatter(\n",
    "    plot_df[:,0], \n",
    "    plot_df[:,1], \n",
    "    credidcard_fraud_df['Class'],\n",
    "    cmap='jet',\n",
    "    c=credidcard_fraud_df['Class'], alpha=0.5\n",
    ")\n",
    "ax.set_xlabel('V29')\n",
    "ax.set_ylabel('V30')\n",
    "ax.set_zlabel('Fraud')"
   ]
  }
 ],
 "metadata": {
  "colab": {
   "collapsed_sections": [
    "i3plBnMxiOFE",
    "c4J0JcYPiOFF",
    "m7kJv-P9iOFG",
    "lnCA_PamiOFG",
    "LH933UodiOFH",
    "9ZqmG6m_iOFK",
    "HAI6Fg2PiOFM",
    "ae426517"
   ],
   "provenance": []
  },
  "kernelspec": {
   "display_name": "Python 3 (ipykernel)",
   "language": "python",
   "name": "python3"
  },
  "language_info": {
   "codemirror_mode": {
    "name": "ipython",
    "version": 3
   },
   "file_extension": ".py",
   "mimetype": "text/x-python",
   "name": "python",
   "nbconvert_exporter": "python",
   "pygments_lexer": "ipython3",
   "version": "3.10.2"
  }
 },
 "nbformat": 4,
 "nbformat_minor": 5
}