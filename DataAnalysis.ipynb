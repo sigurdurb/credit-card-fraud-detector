{
 "cells": [
  {
   "cell_type": "markdown",
   "id": "89053e50",
   "metadata": {},
   "source": [
    "# Data Analysis\n",
    "\n",
    "\n",
    "\n"
   ]
  },
  {
   "cell_type": "markdown",
   "id": "9f10d552",
   "metadata": {},
   "source": [
    "### Import libraries"
   ]
  },
  {
   "cell_type": "code",
   "execution_count": null,
   "id": "eb76e7c3",
   "metadata": {},
   "outputs": [],
   "source": [
    "import pandas as pd\n"
   ]
  },
  {
   "cell_type": "markdown",
   "id": "56a992dd",
   "metadata": {},
   "source": [
    "### Read data"
   ]
  },
  {
   "cell_type": "code",
   "execution_count": null,
   "id": "5cbb7397",
   "metadata": {},
   "outputs": [],
   "source": [
    "pd.read_csv('../creditcard.csv')"
   ]
  },
  {
   "cell_type": "markdown",
   "id": "8c51f29b",
   "metadata": {},
   "source": [
    "### General stats about the data"
   ]
  },
  {
   "cell_type": "code",
   "execution_count": null,
   "id": "fa34f848",
   "metadata": {},
   "outputs": [],
   "source": []
  },
  {
   "cell_type": "markdown",
   "id": "c196db05",
   "metadata": {},
   "source": [
    "### Clean and wrangle"
   ]
  },
  {
   "cell_type": "code",
   "execution_count": null,
   "id": "41f71c94",
   "metadata": {},
   "outputs": [],
   "source": []
  },
  {
   "cell_type": "markdown",
   "id": "18d7625a",
   "metadata": {},
   "source": [
    "### Do some useful stuff"
   ]
  },
  {
   "cell_type": "code",
   "execution_count": null,
   "id": "d8ffc4e5",
   "metadata": {},
   "outputs": [],
   "source": []
  },
  {
   "cell_type": "code",
   "execution_count": null,
   "id": "9a37ab81",
   "metadata": {},
   "outputs": [],
   "source": []
  }
 ],
 "metadata": {
  "kernelspec": {
   "display_name": "Python [conda env:gagr2022]",
   "language": "python",
   "name": "conda-env-gagr2022-py"
  },
  "language_info": {
   "codemirror_mode": {
    "name": "ipython",
    "version": 3
   },
   "file_extension": ".py",
   "mimetype": "text/x-python",
   "name": "python",
   "nbconvert_exporter": "python",
   "pygments_lexer": "ipython3",
   "version": "3.9.9"
  }
 },
 "nbformat": 4,
 "nbformat_minor": 5
}
