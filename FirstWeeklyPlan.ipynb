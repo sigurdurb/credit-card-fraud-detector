{
 "cells": [
  {
   "cell_type": "markdown",
   "id": "3dd57ced",
   "metadata": {},
   "source": [
    "## Literature review\n",
    "\n",
    "* State of the art þegar kemur að hvað er að gerast með kredikort fraud\n",
    "\n",
    "* Almennt um Credit card fraud\n",
    "\n",
    "* Data analysis tæknir\n",
    "    \n",
    "\n",
    "* Evaluate \n",
    "    * Finna standards við CCFD\n",
    "\n",
    "* Detection techniques\n",
    "    * Random Forest\n",
    "    * Deep learning\n",
    "    * Naive Baysian\n",
    "* plus \n",
    "    * Numerical analysis\n",
    "    \n",
    "\n",
    "* Taka saman Results\n",
    "\n",
    "\n",
    "### Fyrstu viku summary\n",
    "\n",
    "Kaflar:\n",
    "\n",
    "Related work og Background með Data analysis kafla -> með vísun í Gagnagreiningarskýrslu."
   ]
  },
  {
   "cell_type": "code",
   "execution_count": null,
   "id": "b96db555",
   "metadata": {},
   "outputs": [],
   "source": []
  }
 ],
 "metadata": {
  "kernelspec": {
   "display_name": "Python [conda env:gagr2022]",
   "language": "python",
   "name": "conda-env-gagr2022-py"
  },
  "language_info": {
   "codemirror_mode": {
    "name": "ipython",
    "version": 3
   },
   "file_extension": ".py",
   "mimetype": "text/x-python",
   "name": "python",
   "nbconvert_exporter": "python",
   "pygments_lexer": "ipython3",
   "version": "3.9.9"
  }
 },
 "nbformat": 4,
 "nbformat_minor": 5
}